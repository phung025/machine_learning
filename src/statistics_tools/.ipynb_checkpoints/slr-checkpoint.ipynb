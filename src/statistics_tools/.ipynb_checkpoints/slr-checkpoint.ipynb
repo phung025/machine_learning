{
 "cells": [
  {
   "cell_type": "code",
   "execution_count": 1,
   "metadata": {},
   "outputs": [],
   "source": [
    "# Functions Used for Simple Linear Regression (SLR) Analysis\n",
    "# --------------------------------------------------------------\n",
    "# This notebook provides the following operations:\n",
    "# compute_b0() - Compute the y-intercept of the regression line\n",
    "# compute_b1() - Compute the regression coefficient of the regression line\n",
    "# compute_regression_line() - Compute and return the regression function\n",
    "# print_regression_line() - Print the formula of the regression equation\n",
    "# compute_s_xx() - Compute the sum of the squares of the difference between each x and the mean x value\n",
    "# compute_s_xy() - Compute the sum of the product of the difference between x its means and the difference between y and its mean.\n",
    "# compute_s_yy() - Compute the sum of the squares of the difference between each y and the mean y value\n",
    "# compute_MSE() - Compute the mean squared error\n",
    "# compute_SSE() - Compute the sum squared error\n",
    "# comptute_SSR() - Compute the sum squared regression\n",
    "# plot_data() - Plot the input data with or without regression line\n",
    "# compute_CI_b1() - Compute the two-tailed confidence interval of b1\n",
    "# compute_CI_b0() - Compute the two-tailed confidence interval of b0\n",
    "# compute_R_squared() - Compute the coefficient of determination\n",
    "# compute_x_i_squared() - Compute the sum squared of column x\n",
    "# compute_y_i_squared() - Compute the sum squared of column y\n",
    "# generate_ANOVA_table() - Generate the ANOVA table for SLR Analysis"
   ]
  },
  {
   "cell_type": "code",
   "execution_count": 2,
   "metadata": {},
   "outputs": [],
   "source": [
    "import numpy as np, pandas as pd\n",
    "from pandas import Series, DataFrame\n",
    "from scipy import stats\n",
    "import math\n",
    "import seaborn as sns\n",
    "\n",
    "%matplotlib inline"
   ]
  },
  {
   "cell_type": "markdown",
   "metadata": {},
   "source": [
    "#### Compute and Return The Regression Line Function"
   ]
  },
  {
   "cell_type": "code",
   "execution_count": 3,
   "metadata": {},
   "outputs": [],
   "source": [
    "def compute_regression_line(data):\n",
    "    \n",
    "    b0 = compute_b0(data)\n",
    "    b1 = compute_b1(data)\n",
    "    \n",
    "    def hypothesis(x):\n",
    "        return b0+b1*x\n",
    "    return hypothesis"
   ]
  },
  {
   "cell_type": "markdown",
   "metadata": {},
   "source": [
    "#### Print Out The Regression Function $\\widehat{y}=\\widehat{\\beta}_0+\\widehat{\\beta}_1x$"
   ]
  },
  {
   "cell_type": "code",
   "execution_count": 4,
   "metadata": {},
   "outputs": [],
   "source": [
    "def print_regression_line(data):\n",
    "    b0 = compute_b0(data)\n",
    "    b1 = compute_b1(data)\n",
    "    print(\"ŷ = \" + str(b0) + \" + (\" + str(b1) + \"*x)\")"
   ]
  },
  {
   "cell_type": "markdown",
   "metadata": {},
   "source": [
    "#### Compute The Y-intercept $\\widehat{\\beta}_0=\\bar{y}-\\widehat{\\beta}_1\\bar{x}$"
   ]
  },
  {
   "cell_type": "code",
   "execution_count": 31,
   "metadata": {},
   "outputs": [],
   "source": [
    "def compute_b0(data):\n",
    "    cols = list(data.columns) # Name of the columns\n",
    "    x_avg = np.mean(data[cols[0]]) # Average of column X \n",
    "    y_avg = np.mean(data[cols[1]]) # Average of column Y\n",
    "    \n",
    "    return y_avg-compute_b1(data)*x_avg"
   ]
  },
  {
   "cell_type": "markdown",
   "metadata": {},
   "source": [
    "#### Compute The Slope of Regression Line $\\widehat{\\beta}_1=\\frac{S_{xy}}{S_{xx}}$"
   ]
  },
  {
   "cell_type": "code",
   "execution_count": 32,
   "metadata": {},
   "outputs": [],
   "source": [
    "def compute_b1(data):\n",
    "    s_xy = compute_s_xy(data)\n",
    "    s_xx = compute_s_xx(data)\n",
    "    return s_xy/s_xx"
   ]
  },
  {
   "cell_type": "markdown",
   "metadata": {},
   "source": [
    "#### Compute $S_{xx}=\\sum{(x_i-\\bar{x})^2}$"
   ]
  },
  {
   "cell_type": "code",
   "execution_count": 33,
   "metadata": {},
   "outputs": [],
   "source": [
    "def compute_s_xy(data):\n",
    "    cols = list(data.columns) # Name of the columns \n",
    "    x_avg = np.mean(data[cols[0]]) # Average of column X \n",
    "    y_avg = np.mean(data[cols[1]]) # Average of column Y\n",
    "    \n",
    "    return np.sum(Series.mul(data[cols[0]]-x_avg, data[cols[1]]-y_avg))"
   ]
  },
  {
   "cell_type": "markdown",
   "metadata": {},
   "source": [
    "#### Compute $S_{xy}=\\sum{(x_i-\\bar{x})(y_i-\\bar{y})}$"
   ]
  },
  {
   "cell_type": "code",
   "execution_count": 34,
   "metadata": {},
   "outputs": [],
   "source": [
    "def compute_s_xx(data):\n",
    "    cols = list(data.columns) # Name of the columns\n",
    "    x_avg = np.mean(data[cols[0]])\n",
    "    return np.sum((data[cols[0]]-x_avg)**2)"
   ]
  },
  {
   "cell_type": "markdown",
   "metadata": {},
   "source": [
    "#### Compute $S_{yy}=\\sum{(y_i-\\bar{y})^2}$"
   ]
  },
  {
   "cell_type": "code",
   "execution_count": 35,
   "metadata": {},
   "outputs": [],
   "source": [
    "def compute_s_yy(data):\n",
    "    cols = list(data.columns) # Name of the columns\n",
    "    y_avg = np.mean(data[cols[1]])\n",
    "    return np.sum((data[cols[1]]-y_avg)**2)"
   ]
  },
  {
   "cell_type": "markdown",
   "metadata": {},
   "source": [
    "#### Compute Mean Squared Error $MSE=\\widehat{\\sigma}^2=\\frac{SSE}{n-2}=\\frac{\\sum{(y_i-\\widehat{y}_i)^2}}{n-2}$"
   ]
  },
  {
   "cell_type": "code",
   "execution_count": 36,
   "metadata": {},
   "outputs": [],
   "source": [
    "def compute_MSE(data):\n",
    "    return compute_SSE(data)/(len(data)-2)"
   ]
  },
  {
   "cell_type": "markdown",
   "metadata": {},
   "source": [
    "#### Compute Sum Squared Error $SSE=\\sum{[y_i-(\\beta_0 + x_i\\beta_1)]^2}$"
   ]
  },
  {
   "cell_type": "code",
   "execution_count": 37,
   "metadata": {},
   "outputs": [],
   "source": [
    "def compute_SSE(data):\n",
    "    cols = list(data.columns) # Name of the columns\n",
    "    h = compute_regression_line(data)\n",
    "    return np.sum((data[cols[1]]-h(data[cols[0]]))**2)"
   ]
  },
  {
   "cell_type": "markdown",
   "metadata": {},
   "source": [
    "#### Compute Sum Squared Regression $SSR=\\sum{(y_i-\\bar{y})^2}$"
   ]
  },
  {
   "cell_type": "code",
   "execution_count": 38,
   "metadata": {},
   "outputs": [],
   "source": [
    "def compute_SSR(data):\n",
    "    cols = list(data.columns) # Name of the columns\n",
    "    h = compute_regression_line(data)\n",
    "    y_avg = np.mean(data[cols[1]])\n",
    "    return np.sum((h(data[cols[0]])-y_avg)**2)"
   ]
  },
  {
   "cell_type": "markdown",
   "metadata": {},
   "source": [
    "#### Plot Data & Fit Regression Line"
   ]
  },
  {
   "cell_type": "code",
   "execution_count": 39,
   "metadata": {},
   "outputs": [],
   "source": [
    "def plot_data(data, reg_fit):\n",
    "    cols = list(data.columns)\n",
    "    if reg_fit:\n",
    "        plot = sns.lmplot(x=cols[0], y=cols[1], data=data, fit_reg=True)\n",
    "    else:\n",
    "        plot = sns.lmplot(x=cols[0], y=cols[1], data=data, fit_reg=False)"
   ]
  },
  {
   "cell_type": "markdown",
   "metadata": {},
   "source": [
    "#### Compute and Print Out The Confidence Interval for The Slope $\\beta_1$\n",
    "$$\\widehat{\\beta}_1±t_{\\frac{\\alpha}{2}}(n−2)\\sqrt{\\frac{MSE}{S_{xx}}}$$"
   ]
  },
  {
   "cell_type": "code",
   "execution_count": 68,
   "metadata": {},
   "outputs": [],
   "source": [
    "def compute_CI_b1(data, level):\n",
    "    \n",
    "    df = len(data)-2\n",
    "    alpha = 1-level\n",
    "    \n",
    "    b1 = compute_b1(data)\n",
    "    test_stat_val = -stats.t.ppf(alpha/2, df)\n",
    "    mse = compute_MSE(data)\n",
    "    s_xx = compute_s_xx(data)\n",
    "    \n",
    "    lower_bound = b1 - test_stat_val*math.sqrt(mse/s_xx)\n",
    "    upper_bound = b1 + test_stat_val*math.sqrt(mse/s_xx)\n",
    "    \n",
    "    print(\"The Confidence Interval of b1 at alpha=\"+str(level*100)+\"% with df=\"+str(df)+\" is:\")\n",
    "    print(\"(\"+str(lower_bound)+\", \"+str(upper_bound)+\")\")"
   ]
  },
  {
   "cell_type": "markdown",
   "metadata": {},
   "source": [
    "#### Compute and Print Out The Confidence Interval for The Y-intercept $\\beta_0$"
   ]
  },
  {
   "cell_type": "code",
   "execution_count": 55,
   "metadata": {},
   "outputs": [],
   "source": [
    "def compute_CI_b0(data, level):\n",
    "    df = len(data)-2\n",
    "    alpha = 1-level\n",
    "    \n",
    "    b0 = compute_b0(data)\n",
    "    test_stat_val = -stats.t.ppf((alpha)/2, df)\n",
    "\n",
    "    cols = list(data.columns)\n",
    "    sum_x_squared = np.sum(data[cols[0]]**2)\n",
    "    n = len(data)\n",
    "    s_xx = compute_s_xx(data)\n",
    "    s = math.sqrt(compute_MSE(data))\n",
    "    \n",
    "    lower_bound = b0 - test_stat_val*s*math.sqrt(sum_x_squared/(n*s_xx))\n",
    "    upper_bound = b0 + test_stat_val*s*math.sqrt(sum_x_squared/(n*s_xx))\n",
    "    \n",
    "    print(\"The Confidence Interval of b0 at alpha=\"+str(level*100)+\"% with df=\"+str(df)+\" is:\")\n",
    "    print(\"(\"+str(lower_bound)+\", \"+str(upper_bound)+\")\")"
   ]
  },
  {
   "cell_type": "markdown",
   "metadata": {},
   "source": [
    "#### Compute $R^2=1-\\frac{SSE}{S_{yy}}$"
   ]
  },
  {
   "cell_type": "code",
   "execution_count": 56,
   "metadata": {},
   "outputs": [],
   "source": [
    "def compute_R_squared(data):\n",
    "    return 1-(compute_SSE(data)/compute_s_yy(data))"
   ]
  },
  {
   "cell_type": "markdown",
   "metadata": {},
   "source": [
    "#### Compute $\\sum{x_i^2}$"
   ]
  },
  {
   "cell_type": "code",
   "execution_count": 57,
   "metadata": {},
   "outputs": [],
   "source": [
    "def compute_x_i_squared(data):\n",
    "    return np.sum(data[list(data.columns)[0]]**2)"
   ]
  },
  {
   "cell_type": "markdown",
   "metadata": {},
   "source": [
    "#### Compute $\\sum{y_i^2}$"
   ]
  },
  {
   "cell_type": "code",
   "execution_count": 58,
   "metadata": {},
   "outputs": [],
   "source": [
    "def compute_y_i_squared():\n",
    "    return np.sum(data[list(data.columns)[1]]**2)"
   ]
  },
  {
   "cell_type": "markdown",
   "metadata": {},
   "source": [
    "#### Compute ANOVA Table"
   ]
  },
  {
   "cell_type": "code",
   "execution_count": 59,
   "metadata": {},
   "outputs": [],
   "source": [
    "def compute_ANOVA_table(data):\n",
    "    table = DataFrame(index=['Model(Regression)', 'Error (Residual)', 'Total'], columns=['SS', 'df', 'MS', 'F'])\n",
    "    ssr = compute_SSR(data)\n",
    "    sse = compute_SSE(data)\n",
    "    sst = ssr+sse\n",
    "    n = len(data)\n",
    "    msr = ssr/1 # Since this is SLR, there's only 1 feature\n",
    "    mse = compute_MSE(data)\n",
    "    \n",
    "    cols = list(table.columns)\n",
    "    rows = list(table.index)\n",
    "    \n",
    "    table[cols[0]][rows[0]] = float(ssr)\n",
    "    table[cols[0]][rows[1]] = float(sse)\n",
    "    table[cols[0]][rows[2]] = float(sst)\n",
    "    table[cols[1]][rows[0]] = 1\n",
    "    table[cols[1]][rows[1]] = float(n-2)\n",
    "    table[cols[1]][rows[2]] = float(n-1)\n",
    "    table[cols[2]][rows[0]] = float(msr)\n",
    "    table[cols[2]][rows[1]] = float(mse)\n",
    "    table[cols[3]][rows[0]] = float(msr/mse)\n",
    "\n",
    "    return table"
   ]
  },
  {
   "cell_type": "code",
   "execution_count": 91,
   "metadata": {},
   "outputs": [],
   "source": [
    "# Load input data\n",
    "input_data = DataFrame.from_csv('slr_ex_data5.csv', index_col=None)"
   ]
  },
  {
   "cell_type": "code",
   "execution_count": 92,
   "metadata": {},
   "outputs": [
    {
     "data": {
      "image/png": "[encoded data removed]",
      "text/plain": [
       "<matplotlib.figure.Figure at 0x1a142eaf98>"
      ]
     },
     "metadata": {},
     "output_type": "display_data"
    }
   ],
   "source": [
    "# Display the data plot\n",
    "plot_data(input_data, reg_fit=True)"
   ]
  },
  {
   "cell_type": "code",
   "execution_count": 93,
   "metadata": {},
   "outputs": [
    {
     "name": "stdout",
     "output_type": "stream",
     "text": [
      "                        SS  df       MS        F\n",
      "Model(Regression)  178.092   1  178.092  31.1032\n",
      "Error (Residual)   148.872  26  5.72585      NaN\n",
      "Total              326.964  27      NaN      NaN\n"
     ]
    }
   ],
   "source": [
    "# Print ANOVA table\n",
    "print(compute_ANOVA_table(input_data))"
   ]
  },
  {
   "cell_type": "code",
   "execution_count": 94,
   "metadata": {},
   "outputs": [
    {
     "name": "stdout",
     "output_type": "stream",
     "text": [
      "ŷ = 21.78825088241302 + (-0.007025100276006441*x)\n"
     ]
    }
   ],
   "source": [
    "print_regression_line(input_data)"
   ]
  },
  {
   "cell_type": "code",
   "execution_count": 95,
   "metadata": {},
   "outputs": [
    {
     "name": "stdout",
     "output_type": "stream",
     "text": [
      "54.46843012906605% of the variation can be explained by the fitted model\n"
     ]
    }
   ],
   "source": [
    "# Display R squared value\n",
    "print(str(compute_R_squared(input_data)*100) + \"% of the variation can be explained by the fitted model\")"
   ]
  },
  {
   "cell_type": "code",
   "execution_count": 96,
   "metadata": {},
   "outputs": [
    {
     "name": "stdout",
     "output_type": "stream",
     "text": [
      "The Confidence Interval of b0 at alpha=90.0% with df=26 is:\n",
      "(17.1895071158, 26.386994649)\n"
     ]
    }
   ],
   "source": [
    "compute_CI_b0(input_data, 0.9)"
   ]
  },
  {
   "cell_type": "code",
   "execution_count": 97,
   "metadata": {},
   "outputs": [
    {
     "data": {
      "text/plain": [
       "5.725845084730774"
      ]
     },
     "execution_count": 97,
     "metadata": {},
     "output_type": "execute_result"
    }
   ],
   "source": [
    "compute_MSE(input_data)"
   ]
  },
  {
   "cell_type": "code",
   "execution_count": 98,
   "metadata": {},
   "outputs": [
    {
     "name": "stdout",
     "output_type": "stream",
     "text": [
      "The Confidence Interval of b1 at alpha=95.0% with df=26 is:\n",
      "(-0.00961434701405, -0.00443585353796)\n"
     ]
    }
   ],
   "source": [
    "compute_CI_b1(input_data, 0.95)"
   ]
  },
  {
   "cell_type": "code",
   "execution_count": 99,
   "metadata": {},
   "outputs": [
    {
     "data": {
      "text/plain": [
       "3608611.4285714286"
      ]
     },
     "execution_count": 99,
     "metadata": {},
     "output_type": "execute_result"
    }
   ],
   "source": [
    "compute_s_xx(input_data)"
   ]
  },
  {
   "cell_type": "code",
   "execution_count": 102,
   "metadata": {},
   "outputs": [
    {
     "data": {
      "text/plain": [
       "9.143070385601426"
      ]
     },
     "execution_count": 102,
     "metadata": {},
     "output_type": "execute_result"
    }
   ],
   "source": [
    "compute_regression_line(input_data)(1800)"
   ]
  },
  {
   "cell_type": "code",
   "execution_count": 101,
   "metadata": {},
   "outputs": [
    {
     "data": {
      "text/plain": [
       "21.78825088241302"
      ]
     },
     "execution_count": 101,
     "metadata": {},
     "output_type": "execute_result"
    }
   ],
   "source": [
    "compute_b0(input_data)"
   ]
  },
  {
   "cell_type": "code",
   "execution_count": 103,
   "metadata": {},
   "outputs": [
    {
     "data": {
      "text/plain": [
       "128284292"
      ]
     },
     "execution_count": 103,
     "metadata": {},
     "output_type": "execute_result"
    }
   ],
   "source": [
    "compute_x_i_squared(input_data)"
   ]
  },
  {
   "cell_type": "code",
   "execution_count": null,
   "metadata": {},
   "outputs": [],
   "source": []
  }
 ],
 "metadata": {
  "kernelspec": {
   "display_name": "Python 3",
   "language": "python",
   "name": "python3"
  },
  "language_info": {
   "codemirror_mode": {
    "name": "ipython",
    "version": 3
   },
   "file_extension": ".py",
   "mimetype": "text/x-python",
   "name": "python",
   "nbconvert_exporter": "python",
   "pygments_lexer": "ipython3",
   "version": "3.6.4"
  }
 },
 "nbformat": 4,
 "nbformat_minor": 2
}
