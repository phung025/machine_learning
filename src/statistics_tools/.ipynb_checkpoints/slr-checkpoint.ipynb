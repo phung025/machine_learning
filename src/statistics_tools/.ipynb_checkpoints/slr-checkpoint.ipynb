{
 "cells": [
  {
   "cell_type": "code",
   "execution_count": 1,
   "metadata": {},
   "outputs": [],
   "source": [
    "# Functions Used for Simple Linear Regression (SLR) Analysis\n",
    "# --------------------------------------------------------------\n",
    "# This notebook provides the following operations:\n",
    "# compute_b0() - Compute the y-intercept of the regression line\n",
    "# compute_b1() - Compute the regression coefficient of the regression line\n",
    "# compute_regression_line() - Compute and return the regression function\n",
    "# print_regression_line() - Print the formula of the regression equation\n",
    "# compute_s_xx() - Compute the sum of the squares of the difference between each x and the mean x value\n",
    "# compute_s_xy() - Compute the sum of the product of the difference between x its means and the difference between y and its mean.\n",
    "# compute_s_yy() - Compute the sum of the squares of the difference between each y and the mean y value\n",
    "# compute_MSE() - Compute the mean squared error\n",
    "# compute_SSE() - Compute the sum squared error\n",
    "# comptute_SSR() - Compute the sum squared regression\n",
    "# plot_data() - Plot the input data with or without regression line\n",
    "# compute_CI_b1() - Compute the two-tailed confidence interval of b1\n",
    "# compute_CI_b0() - Compute the two-tailed confidence interval of b0\n",
    "# compute_R_squared() - Compute the coefficient of determination\n",
    "# compute_x_i_squared() - Compute the sum squared of column x\n",
    "# compute_y_i_squared() - Compute the sum squared of column y\n",
    "# generate_ANOVA_table() - Generate the ANOVA table for SLR Analysis"
   ]
  },
  {
   "cell_type": "code",
   "execution_count": 2,
   "metadata": {},
   "outputs": [],
   "source": [
    "import numpy as np, pandas as pd\n",
    "from pandas import Series, DataFrame\n",
    "from scipy import stats\n",
    "import math\n",
    "import seaborn as sns\n",
    "\n",
    "%matplotlib inline"
   ]
  },
  {
   "cell_type": "code",
   "execution_count": 3,
   "metadata": {},
   "outputs": [],
   "source": [
    "def compute_regression_line(data):\n",
    "    \n",
    "    b0 = compute_b0(data)\n",
    "    b1 = compute_b1(data)\n",
    "    \n",
    "    def hypothesis(x):\n",
    "        return b0+b1*x\n",
    "    return hypothesis"
   ]
  },
  {
   "cell_type": "code",
   "execution_count": 4,
   "metadata": {},
   "outputs": [],
   "source": [
    "def print_regression_line(data):\n",
    "    b0 = compute_b0(data)\n",
    "    b1 = compute_b1(data)\n",
    "    print(\"ŷ = \" + str(b0) + \" + (\" + str(b1) + \"*x)\")"
   ]
  },
  {
   "cell_type": "code",
   "execution_count": 5,
   "metadata": {},
   "outputs": [],
   "source": [
    "def compute_b0(data):\n",
    "    cols = list(data.columns) # Name of the columns\n",
    "    x_avg = np.mean(data[cols[0]]) # Average of column X \n",
    "    y_avg = np.mean(data[cols[1]]) # Average of column Y\n",
    "    \n",
    "    return y_avg-compute_b1(data)*x_avg"
   ]
  },
  {
   "cell_type": "code",
   "execution_count": 6,
   "metadata": {},
   "outputs": [],
   "source": [
    "def compute_b1(data):\n",
    "    s_xy = compute_s_xy(data)\n",
    "    s_xx = compute_s_xx(data)\n",
    "    return s_xy/s_xx"
   ]
  },
  {
   "cell_type": "code",
   "execution_count": 7,
   "metadata": {},
   "outputs": [],
   "source": [
    "def compute_s_xy(data):\n",
    "    cols = list(data.columns) # Name of the columns \n",
    "    x_avg = np.mean(data[cols[0]]) # Average of column X \n",
    "    y_avg = np.mean(data[cols[1]]) # Average of column Y\n",
    "    \n",
    "    return np.sum(Series.mul(data[cols[0]]-x_avg, data[cols[1]]-y_avg))    "
   ]
  },
  {
   "cell_type": "code",
   "execution_count": 8,
   "metadata": {},
   "outputs": [],
   "source": [
    "def compute_s_xx(data):\n",
    "    cols = list(data.columns) # Name of the columns\n",
    "    x_avg = np.mean(data[cols[0]])\n",
    "    return np.sum((data[cols[0]]-x_avg)**2)"
   ]
  },
  {
   "cell_type": "code",
   "execution_count": 9,
   "metadata": {},
   "outputs": [],
   "source": [
    "def compute_s_yy(data):\n",
    "    cols = list(data.columns) # Name of the columns\n",
    "    y_avg = np.mean(data[cols[1]])\n",
    "    return np.sum((data[cols[1]]-y_avg)**2)"
   ]
  },
  {
   "cell_type": "code",
   "execution_count": 10,
   "metadata": {},
   "outputs": [],
   "source": [
    "def compute_MSE(data):\n",
    "    return compute_SSE(data)/(len(data)-2)"
   ]
  },
  {
   "cell_type": "code",
   "execution_count": 11,
   "metadata": {},
   "outputs": [],
   "source": [
    "def compute_SSE(data):\n",
    "    cols = list(data.columns) # Name of the columns\n",
    "    h = compute_regression_line(data)\n",
    "    return np.sum((data[cols[1]]-h(data[cols[0]]))**2)"
   ]
  },
  {
   "cell_type": "code",
   "execution_count": 12,
   "metadata": {},
   "outputs": [],
   "source": [
    "def compute_SSR(data):\n",
    "    cols = list(data.columns) # Name of the columns\n",
    "    h = compute_regression_line(data)\n",
    "    y_avg = np.mean(data[cols[1]])\n",
    "    return np.sum((h(data[cols[0]])-y_avg)**2)"
   ]
  },
  {
   "cell_type": "code",
   "execution_count": 13,
   "metadata": {},
   "outputs": [],
   "source": [
    "def plot_data(data, regression):\n",
    "    cols = list(data.columns)\n",
    "    if (regression == True):\n",
    "        plot = sns.lmplot(x=cols[0], y=cols[1], data=data, fit_reg=True)\n",
    "    else:\n",
    "        plot = sns.lmplot(x=cols[0], y=cols[1], data=data, fit_reg=False)"
   ]
  },
  {
   "cell_type": "code",
   "execution_count": 14,
   "metadata": {},
   "outputs": [],
   "source": [
    "def compute_CI_b1(data, level):\n",
    "    \n",
    "    df = len(data)-2\n",
    "    alpha = 1-level\n",
    "    \n",
    "    b1 = compute_b1(data)\n",
    "    test_stat_val = stats.t.ppf((1-alpha)/2, df)\n",
    "    mse = compute_MSE(data)\n",
    "    s_xx = compute_s_xx(data)\n",
    "    \n",
    "    lower_bound = b1 - test_stat_val*math.sqrt(mse/s_xx)\n",
    "    upper_bound = b1 + test_stat_val*math.sqrt(mse/s_xx)\n",
    "    \n",
    "    print(\"The Confidence Interval of b1 at alpha=\"+str(level*100)+\"% is:\")\n",
    "    print(\"(\"+str(lower_bound)+\", \"+str(upper_bound)+\")\")"
   ]
  },
  {
   "cell_type": "code",
   "execution_count": 76,
   "metadata": {},
   "outputs": [],
   "source": [
    "def compute_CI_b0(data, level):\n",
    "    df = len(data)-2\n",
    "    alpha = 1-level\n",
    "    \n",
    "    b0 = compute_b0(data)\n",
    "    test_stat_val = -stats.t.ppf((alpha)/2, df)\n",
    "\n",
    "    cols = list(data.columns)\n",
    "    sum_x_squared = np.sum(data[cols[0]]**2)\n",
    "    n = len(data)\n",
    "    s_xx = compute_s_xx(data)\n",
    "    s = math.sqrt(compute_MSE(data))\n",
    "    \n",
    "    lower_bound = b0 - test_stat_val*s*math.sqrt(sum_x_squared/(n*s_xx))\n",
    "    upper_bound = b0 + test_stat_val*s*math.sqrt(sum_x_squared/(n*s_xx))\n",
    "    \n",
    "    print(\"The Confidence Interval of b1 at alpha=\"+str(level*100)+\"% is:\")\n",
    "    print(\"(\"+str(lower_bound)+\", \"+str(upper_bound)+\")\")"
   ]
  },
  {
   "cell_type": "code",
   "execution_count": 77,
   "metadata": {},
   "outputs": [],
   "source": [
    "def compute_R_squared(data):\n",
    "    return 1-(compute_SSE(data)/compute_s_yy(data))"
   ]
  },
  {
   "cell_type": "code",
   "execution_count": 78,
   "metadata": {},
   "outputs": [],
   "source": [
    "def compute_x_i_squared(data):\n",
    "    return np.sum(data[list(data.columns)[0]]**2)"
   ]
  },
  {
   "cell_type": "code",
   "execution_count": 79,
   "metadata": {},
   "outputs": [],
   "source": [
    "def compute_y_i_squared():\n",
    "    return np.sum(data[list(data.columns)[1]]**2)"
   ]
  },
  {
   "cell_type": "code",
   "execution_count": 80,
   "metadata": {},
   "outputs": [],
   "source": [
    "def generate_ANOVA_table(data):\n",
    "    table = DataFrame(index=['Model(Regression)', 'Error (Residual)', 'Total'], columns=['SS', 'df', 'MS', 'F'])\n",
    "    ssr = compute_SSR(data)\n",
    "    sse = compute_SSE(data)\n",
    "    sst = ssr+sse\n",
    "    n = len(data)\n",
    "    msr = ssr/1 # Since this is SLR, there's only 1 feature\n",
    "    mse = compute_MSE(data)\n",
    "    \n",
    "    cols = list(table.columns)\n",
    "    rows = list(table.index)\n",
    "    \n",
    "    table[cols[0]][rows[0]] = float(ssr)\n",
    "    table[cols[0]][rows[1]] = float(sse)\n",
    "    table[cols[0]][rows[2]] = float(sst)\n",
    "    table[cols[1]][rows[0]] = 1\n",
    "    table[cols[1]][rows[1]] = float(n-2)\n",
    "    table[cols[1]][rows[2]] = float(n-1)\n",
    "    table[cols[2]][rows[0]] = float(msr)\n",
    "    table[cols[2]][rows[1]] = float(mse)\n",
    "    table[cols[3]][rows[0]] = float(msr/mse)\n",
    "\n",
    "    return table"
   ]
  },
  {
   "cell_type": "code",
   "execution_count": 81,
   "metadata": {},
   "outputs": [],
   "source": [
    "# Load input data\n",
    "input_data = DataFrame.from_csv('slr_ex_data4.csv', index_col=None)"
   ]
  },
  {
   "cell_type": "code",
   "execution_count": 82,
   "metadata": {},
   "outputs": [
    {
     "name": "stdout",
     "output_type": "stream",
     "text": [
      "None\n"
     ]
    },
    {
     "data": {
      "image/png": "[encoded data removed]",
      "text/plain": [
       "<matplotlib.figure.Figure at 0x21d26b18e80>"
      ]
     },
     "metadata": {},
     "output_type": "display_data"
    }
   ],
   "source": [
    "# Display the data plot\n",
    "print(plot_data(input_data, True))"
   ]
  },
  {
   "cell_type": "code",
   "execution_count": 83,
   "metadata": {},
   "outputs": [
    {
     "name": "stdout",
     "output_type": "stream",
     "text": [
      "                        SS df       MS      F\n",
      "Model(Regression)  998.215  1  998.215  254.1\n",
      "Error (Residual)   11.7853  3  3.92843    NaN\n",
      "Total                 1010  4      NaN    NaN\n"
     ]
    }
   ],
   "source": [
    "# Print ANOVA table\n",
    "print(generate_ANOVA_table(input_data))"
   ]
  },
  {
   "cell_type": "code",
   "execution_count": 84,
   "metadata": {},
   "outputs": [
    {
     "data": {
      "text/plain": [
       "84.91102181400687"
      ]
     },
     "execution_count": 84,
     "metadata": {},
     "output_type": "execute_result"
    }
   ],
   "source": [
    "# Display regression fit line\n",
    "compute_regression_line(input_data)(74)"
   ]
  },
  {
   "cell_type": "code",
   "execution_count": 85,
   "metadata": {},
   "outputs": [
    {
     "name": "stdout",
     "output_type": "stream",
     "text": [
      "98.83313819326823% of the variation can be explained by the fitted model\n"
     ]
    }
   ],
   "source": [
    "# Display R squared value\n",
    "print(str(compute_R_squared(input_data)*100) + \"% of the variation can be explained by the fitted model\")"
   ]
  },
  {
   "cell_type": "code",
   "execution_count": 86,
   "metadata": {},
   "outputs": [
    {
     "name": "stdout",
     "output_type": "stream",
     "text": [
      "The Confidence Interval of b1 at alpha=90.0% is:\n",
      "(-14.1531455672, 6.83397220326)\n"
     ]
    }
   ],
   "source": [
    "compute_CI_b0(input_data, 0.9)"
   ]
  },
  {
   "cell_type": "code",
   "execution_count": null,
   "metadata": {},
   "outputs": [],
   "source": []
  }
 ],
 "metadata": {
  "kernelspec": {
   "display_name": "Python 3",
   "language": "python",
   "name": "python3"
  },
  "language_info": {
   "codemirror_mode": {
    "name": "ipython",
    "version": 3
   },
   "file_extension": ".py",
   "mimetype": "text/x-python",
   "name": "python",
   "nbconvert_exporter": "python",
   "pygments_lexer": "ipython3",
   "version": "3.6.3"
  }
 },
 "nbformat": 4,
 "nbformat_minor": 2
}
