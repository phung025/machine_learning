{
 "cells": [
  {
   "cell_type": "code",
   "execution_count": 11,
   "metadata": {},
   "outputs": [],
   "source": [
    "from pandas import Series, DataFrame\n",
    "import seaborn as sns\n",
    "\n",
    "%matplotlib inline"
   ]
  },
  {
   "cell_type": "code",
   "execution_count": 12,
   "metadata": {},
   "outputs": [],
   "source": [
    "def learning_algorithm(training_set, loss_function, steps):\n",
    "    \n",
    "    # Initialize variables\n",
    "    learning_rate = 0.000001\n",
    "    theta0 = 0\n",
    "    theta1 = 0\n",
    "    \n",
    "    for i in range(0, steps):\n",
    "        d_t0 = partial_derivative_se_loss_function(theta0, theta1, training_set, feature=0)\n",
    "        tmp_t0 = theta0 - learning_rate*d_t0\n",
    "        \n",
    "        d_t1 = partial_derivative_se_loss_function(theta0, theta1, training_set, feature=1)\n",
    "        tmp_t1 = theta1 - learning_rate*d_t1\n",
    "        \n",
    "        theta0 = tmp_t0\n",
    "        theta1 = tmp_t1\n",
    "\n",
    "    def hypothesis(x):\n",
    "        return theta0 + theta1*x\n",
    "    print(\"h(x)=\",theta0,\"+\",theta1,\"x\")    \n",
    "    return hypothesis"
   ]
  },
  {
   "cell_type": "code",
   "execution_count": 13,
   "metadata": {},
   "outputs": [],
   "source": [
    "# Partial derivative of squared error loss function\n",
    "def partial_derivative_se_loss_function(theta0, theta1, training_set, feature):\n",
    "    se = 0\n",
    "    for row in training_set.itertuples():\n",
    "        if feature == 0:\n",
    "            se += theta0 + theta1*row[1] - row[2]\n",
    "        else:\n",
    "            se += row[1]*(theta0 + theta1*row[1] - row[2])\n",
    "    return se/len(training_set)"
   ]
  },
  {
   "cell_type": "code",
   "execution_count": 14,
   "metadata": {},
   "outputs": [],
   "source": [
    "# Load training data\n",
    "training_data = DataFrame.from_csv('train2.csv', index_col=None)"
   ]
  },
  {
   "cell_type": "code",
   "execution_count": 15,
   "metadata": {},
   "outputs": [
    {
     "data": {
      "image/png": "[encoded data removed]",
      "text/plain": [
       "<matplotlib.figure.Figure at 0x1cc15d6b8d0>"
      ]
     },
     "metadata": {},
     "output_type": "display_data"
    }
   ],
   "source": [
    "# Plot the training set\n",
    "plot = sns.lmplot(x=\"x\", y=\"y\",data=training_data, fit_reg=False)"
   ]
  },
  {
   "cell_type": "code",
   "execution_count": 4,
   "metadata": {},
   "outputs": [
    {
     "name": "stdout",
     "output_type": "stream",
     "text": [
      "Starting gradient descent using se loss function at theta0=0, theta1=0, learning_rate=0.000001, steps=6000\n",
      "h(x)= 0.0143911169229 + 1.00720977212 x\n",
      "       x           y  y_estimated\n",
      "0     24   21.549452    24.187426\n",
      "1     50   47.464463    50.374880\n",
      "2     15   17.218656    15.122538\n",
      "3     38   36.586398    38.288362\n",
      "4     87   87.288984    87.641641\n",
      "5     36   32.463875    36.273943\n",
      "6     12   10.780897    12.100908\n",
      "7     81   80.763399    81.598383\n",
      "8     25   24.612151    25.194635\n",
      "9      5    6.963319     5.050440\n",
      "10    16   11.237573    16.129747\n",
      "11    16   13.532902    16.129747\n",
      "12    24   24.603239    24.187426\n",
      "13    39   39.400500    39.295572\n",
      "14    54   48.437538    54.403719\n",
      "15    60   61.699003    60.446977\n",
      "16    26   26.928324    26.201845\n",
      "17    73   70.405206    73.540704\n",
      "18    29   29.340924    29.223475\n",
      "19    31   25.308952    31.237894\n",
      "20    68   69.029343    68.504656\n",
      "21    87   84.994847    87.641641\n",
      "22    58   57.043103    58.432558\n",
      "23    54   50.592199    54.403719\n",
      "24    84   83.027722    84.620012\n",
      "25    58   57.057527    58.432558\n",
      "26    49   47.958833    49.367670\n",
      "27    20   24.342264    20.158587\n",
      "28    90   94.684883    90.663271\n",
      "29    48   48.039707    48.360460\n",
      "..   ...         ...          ...\n",
      "670   84   82.889358    84.620012\n",
      "671   64   63.613650    64.475817\n",
      "672   12   11.296272    12.100908\n",
      "673   61   60.022749    61.454187\n",
      "674   75   72.603393    75.555124\n",
      "675   15   11.879646    15.122538\n",
      "676  100  100.701274   100.735368\n",
      "677   43   45.124208    43.324411\n",
      "678   13   14.811068    13.108118\n",
      "679   48   48.093680    48.360460\n",
      "680   45   42.291457    45.338831\n",
      "681   52   52.733898    52.389299\n",
      "682   34   36.723970    34.259523\n",
      "683   30   28.645352    30.230684\n",
      "684   65   62.166753    65.483026\n",
      "685  100   95.584595   100.735368\n",
      "686   67   66.043253    67.497446\n",
      "687   99   99.956622    99.728159\n",
      "688   45   46.149420    45.338831\n",
      "689   87   89.137550    87.641641\n",
      "690   73   69.717878    73.540704\n",
      "691    9   12.317366     9.079279\n",
      "692   81   78.202963    81.598383\n",
      "693   72   71.309954    72.533495\n",
      "694   81   81.455447    81.598383\n",
      "695   58   58.595006    58.432558\n",
      "696   93   94.625094    93.684900\n",
      "697   82   88.603770    82.605592\n",
      "698   66   63.648685    66.490236\n",
      "699   97   94.975266    97.713739\n",
      "\n",
      "[700 rows x 3 columns]\n"
     ]
    }
   ],
   "source": [
    "# Get hypothesis from training data\n",
    "print(\"Starting gradient descent using se loss function at theta0=0, theta1=0, learning_rate=0.000001, steps=6000\")\n",
    "hypothesis = learning_algorithm(training_data, partial_derivative_se_loss_function, steps=6000)\n",
    "\n",
    "# Run the hypothesis function on the test set\n",
    "test_data = DataFrame.from_csv('test2.csv', index_col=None)\n",
    "col_names = list(test_data.columns)\n",
    "col_names.append('y_estimated')\n",
    "test_data = test_data.reindex(columns=col_names)\n",
    "estimated_list = list(test_data['x'])\n",
    "for i in range(0, len(estimated_list)):\n",
    "    estimated_list[i] = hypothesis(estimated_list[i])\n",
    "test_data['y_estimated'] = estimated_list\n",
    "print(test_data)"
   ]
  },
  {
   "cell_type": "code",
   "execution_count": 17,
   "metadata": {},
   "outputs": [
    {
     "data": {
      "image/png": "[encoded data removed]",
      "text/plain": [
       "<matplotlib.figure.Figure at 0x1cc15d6b320>"
      ]
     },
     "metadata": {},
     "output_type": "display_data"
    }
   ],
   "source": [
    "# Plot test set\n",
    "plot = sns.lmplot(x=\"x\", y=\"y_estimated\",data=test_data, fit_reg=False)"
   ]
  },
  {
   "cell_type": "code",
   "execution_count": null,
   "metadata": {},
   "outputs": [],
   "source": []
  }
 ],
 "metadata": {
  "kernelspec": {
   "display_name": "Python 3",
   "language": "python",
   "name": "python3"
  },
  "language_info": {
   "codemirror_mode": {
    "name": "ipython",
    "version": 3
   },
   "file_extension": ".py",
   "mimetype": "text/x-python",
   "name": "python",
   "nbconvert_exporter": "python",
   "pygments_lexer": "ipython3",
   "version": "3.6.3"
  }
 },
 "nbformat": 4,
 "nbformat_minor": 2
}
