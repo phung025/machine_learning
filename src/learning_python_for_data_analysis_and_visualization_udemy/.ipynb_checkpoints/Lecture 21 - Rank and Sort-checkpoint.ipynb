{
 "cells": [
  {
   "cell_type": "code",
   "execution_count": 17,
   "metadata": {
    "collapsed": true
   },
   "outputs": [],
   "source": [
    "import numpy as np\n",
    "import pandas as pd\n",
    "from pandas import Series, DataFrame\n",
    "from numpy.random import randn"
   ]
  },
  {
   "cell_type": "code",
   "execution_count": 18,
   "metadata": {},
   "outputs": [
    {
     "data": {
      "text/plain": [
       "C    4\n",
       "A    1\n",
       "B    3\n",
       "dtype: int64"
      ]
     },
     "execution_count": 18,
     "metadata": {},
     "output_type": "execute_result"
    }
   ],
   "source": [
    "ser1 = Series([4,1,3], index=['C','A','B'])\n",
    "ser1"
   ]
  },
  {
   "cell_type": "code",
   "execution_count": 19,
   "metadata": {},
   "outputs": [
    {
     "data": {
      "text/plain": [
       "A    1\n",
       "B    3\n",
       "C    4\n",
       "dtype: int64"
      ]
     },
     "execution_count": 19,
     "metadata": {},
     "output_type": "execute_result"
    }
   ],
   "source": [
    "# Sort the rows based on index\n",
    "ser1.sort_index()"
   ]
  },
  {
   "cell_type": "code",
   "execution_count": 20,
   "metadata": {},
   "outputs": [
    {
     "data": {
      "text/plain": [
       "A    1\n",
       "B    3\n",
       "C    4\n",
       "dtype: int64"
      ]
     },
     "execution_count": 20,
     "metadata": {},
     "output_type": "execute_result"
    }
   ],
   "source": [
    "# Sort the rows based on values\n",
    "ser1.sort_values()"
   ]
  },
  {
   "cell_type": "code",
   "execution_count": 21,
   "metadata": {},
   "outputs": [
    {
     "data": {
      "text/plain": [
       "0    0.263102\n",
       "1   -1.708661\n",
       "2    1.515280\n",
       "3   -0.907933\n",
       "4   -0.295887\n",
       "5   -1.230601\n",
       "6   -1.081167\n",
       "7   -1.313506\n",
       "8   -1.110350\n",
       "9   -1.731901\n",
       "dtype: float64"
      ]
     },
     "execution_count": 21,
     "metadata": {},
     "output_type": "execute_result"
    }
   ],
   "source": [
    "ser2 = Series(randn(10))\n",
    "ser2"
   ]
  },
  {
   "cell_type": "code",
   "execution_count": 24,
   "metadata": {},
   "outputs": [
    {
     "data": {
      "text/plain": [
       "9   -1.731901\n",
       "1   -1.708661\n",
       "7   -1.313506\n",
       "5   -1.230601\n",
       "8   -1.110350\n",
       "6   -1.081167\n",
       "3   -0.907933\n",
       "4   -0.295887\n",
       "0    0.263102\n",
       "2    1.515280\n",
       "dtype: float64"
      ]
     },
     "execution_count": 24,
     "metadata": {},
     "output_type": "execute_result"
    }
   ],
   "source": [
    "# Sort the values from lowest to highest\n",
    "ser2.sort_values()"
   ]
  },
  {
   "cell_type": "code",
   "execution_count": 25,
   "metadata": {},
   "outputs": [
    {
     "data": {
      "text/plain": [
       "0    0.263102\n",
       "1   -1.708661\n",
       "2    1.515280\n",
       "3   -0.907933\n",
       "4   -0.295887\n",
       "5   -1.230601\n",
       "6   -1.081167\n",
       "7   -1.313506\n",
       "8   -1.110350\n",
       "9   -1.731901\n",
       "dtype: float64"
      ]
     },
     "execution_count": 25,
     "metadata": {},
     "output_type": "execute_result"
    }
   ],
   "source": [
    "ser2.sort_index()"
   ]
  },
  {
   "cell_type": "code",
   "execution_count": 27,
   "metadata": {},
   "outputs": [
    {
     "data": {
      "text/plain": [
       "9     1.0\n",
       "1     2.0\n",
       "7     3.0\n",
       "5     4.0\n",
       "8     5.0\n",
       "6     6.0\n",
       "3     7.0\n",
       "4     8.0\n",
       "0     9.0\n",
       "2    10.0\n",
       "dtype: float64"
      ]
     },
     "execution_count": 27,
     "metadata": {},
     "output_type": "execute_result"
    }
   ],
   "source": [
    "# Rank of the rows from smallest to highest based on the value\n",
    "ser2.rank()"
   ]
  },
  {
   "cell_type": "code",
   "execution_count": 32,
   "metadata": {},
   "outputs": [
    {
     "data": {
      "text/plain": [
       "0    0.403522\n",
       "1   -1.050607\n",
       "2    0.385133\n",
       "3   -1.774767\n",
       "4   -0.576043\n",
       "5   -0.641072\n",
       "6   -0.034608\n",
       "7    1.242934\n",
       "8    0.529649\n",
       "9    0.560175\n",
       "dtype: float64"
      ]
     },
     "execution_count": 32,
     "metadata": {},
     "output_type": "execute_result"
    }
   ],
   "source": [
    "ser3 = Series(randn(10))\n",
    "ser3"
   ]
  },
  {
   "cell_type": "code",
   "execution_count": 33,
   "metadata": {},
   "outputs": [
    {
     "data": {
      "text/plain": [
       "0     7.0\n",
       "1     2.0\n",
       "2     6.0\n",
       "3     1.0\n",
       "4     4.0\n",
       "5     3.0\n",
       "6     5.0\n",
       "7    10.0\n",
       "8     8.0\n",
       "9     9.0\n",
       "dtype: float64"
      ]
     },
     "execution_count": 33,
     "metadata": {},
     "output_type": "execute_result"
    }
   ],
   "source": [
    "ser3.rank()"
   ]
  },
  {
   "cell_type": "code",
   "execution_count": 35,
   "metadata": {},
   "outputs": [
    {
     "data": {
      "text/plain": [
       "3     1.0\n",
       "1     2.0\n",
       "5     3.0\n",
       "4     4.0\n",
       "6     5.0\n",
       "2     6.0\n",
       "0     7.0\n",
       "8     8.0\n",
       "9     9.0\n",
       "7    10.0\n",
       "dtype: float64"
      ]
     },
     "execution_count": 35,
     "metadata": {},
     "output_type": "execute_result"
    }
   ],
   "source": [
    "ser3.sort_values().rank()"
   ]
  }
 ],
 "metadata": {
  "kernelspec": {
   "display_name": "Python 3",
   "language": "python",
   "name": "python3"
  },
  "language_info": {
   "codemirror_mode": {
    "name": "ipython",
    "version": 3
   },
   "file_extension": ".py",
   "mimetype": "text/x-python",
   "name": "python",
   "nbconvert_exporter": "python",
   "pygments_lexer": "ipython3",
   "version": "3.6.3"
  }
 },
 "nbformat": 4,
 "nbformat_minor": 2
}
