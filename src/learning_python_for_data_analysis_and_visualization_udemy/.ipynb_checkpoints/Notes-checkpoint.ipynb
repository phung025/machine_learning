{
 "cells": [
  {
   "cell_type": "markdown",
   "metadata": {},
   "source": [
    "### NOTE:\n",
    " - numpy: module used for dealing with scientific computing (array, matrices, etc)\n",
    " - pandas: module used for creating data structures with \"relational\" or \"labeled\" data (DataFrame - Spreadsheet, Series)"
   ]
  },
  {
   "cell_type": "markdown",
   "metadata": {},
   "source": [
    "import numpy as np\n",
    "from numpy.random import randn\n",
    "\n",
    "### numpy:\n",
    "    + np.arange(5): Create 1x5 matrix with values from 0...4\n",
    "    \n",
    "    + np.reshape(a_matrix, (5,5)): Reshape the matrix a_matrix into a 5x5 matrix - The a_matrix must have exactly 25 values in\n",
    "      order to make form a new 5x5 matrix\n",
    "      \n",
    "    + randn(10): create an array with 10 random numbers"
   ]
  },
  {
   "cell_type": "markdown",
   "metadata": {},
   "source": [
    "Series: A series of values. Each value has a corresponding index with it (Like a dictionary)\n",
    "DataFrame: A spreadsheet with rows and columns (A DataFrame is a two-dimensional series)\n",
    "\n",
    "import pandas as pd\n",
    "from pandas import Series, DataFrame\n",
    "\n",
    "### pandas:\n",
    "    + Series(entries, index): create a series with entries and give a list of index associate with each entry\n",
    "        - Example: Series([1,2,3,4], ['a','b','c','d']) (This function also takes in array created using numpy)\n",
    "        \n",
    "    + DataFrame(entries, index=[], columns=[]): create a data frame with multiple entries. The second argument is the list\n",
    "      of index (row label) in the data frame. The third argument is the list of column names\n",
    "        - Example: DataFrame(np.arange(25).reshape((5,5)), index=['A','B','C','D','E'], columns=[1,2,3,4,5])\n",
    "        \n",
    "    + reindex(index=[], optional: columns=[]): help extend, remove columns, rows\n",
    "        - Example: dataframe1 = DataFrame([[1,2,3],[4,5,6]], index=['A','B'], columns=[1,2,3])\n",
    "                   dataframe1.reindex(index=['A','B','C'], columns=[1,2,3,4])\n",
    "                   dataframe1.reindex(index=['A','B','C'])\n",
    "                   \n",
    "    + drop(label, axis): remove an entry based on the label of that entry, axis=0 -> row, axis=1 -> column\n",
    "        - Example: dataframe1.drop('LA') # Drop row with label LA\n",
    "                   dataframe1.drop('value', axis=1) # Drop column with label value\n",
    "    \n",
    "    + double every values in a series\n",
    "        - Example: ser1 = Series([1,2,3], index=['a','b','c'])\n",
    "                   ser1 = ser1 * 2\n",
    "    \n",
    "    + selecting entry in a series\n",
    "        - Example: ser1 = Series(np.arange(3), index=['a','b','c'])\n",
    "                   ser1[1] # This would return the second value based on the position\n",
    "                   ser1['b'] # This would also return the second value based on the index\n",
    "                   ser1[0:3] # Return entries starting at position 0 and ending at position 2 (but not include 3)\n",
    "                   ser1[['a', 'b']] # Return entries with indices a and b\n",
    "                   ser1[ser1 > 2] # Return entries with values greater than 2\n",
    "                   ser1[ser1 > 3] = 10 # Changing all entries with values greater than 3 to 10\n",
    "    \n",
    "    + selecting entry in a data frame\n",
    "        - Example: dframe = DataFrame(np.arange(25).reshape((5,5)), index=['NYC','LA','SF','DC','Chi'], columns=['A','B','C','D','E'])\n",
    "                   dframe.columns() # Get list of columns\n",
    "                   dframe.index() # Get list of indexes\n",
    "                   dframe[['B','E']] # Select columns B and E\n",
    "                   dframe[dframe['C'] > 8] # Select every rows that have value in column C > 8\n",
    "                   dframe > 10 # Return a boolean data frame indicate which entry has value > 10\n",
    "                   dframe.ix['LA'] # Select row LA, return the row LA as a series\n",
    "                   dframe.ix[['LA', 'Chi']] # Select rows LA, Chi\n",
    "                   dframe.ix[1] # Select the second row\n",
    "                   dframe.ix[-1] # Select the last row\n",
    "                   \n",
    "    + data aligment: adding 2 data frames with different size, different columns, or different rows\n",
    "        - Example: dframe1 = DataFrame(np.arange(4).reshape((2,2)), index=['NYC','LA'], columns=list('AB'))\n",
    "                   dframe2 = DataFrame(np.arange(9).reshape((3,3)), index=['NYC','SF','LA'], columns=list('ADC'))\n",
    "                   dframe1 + dframe2 # This would results in entries with NaN values since there will be cases where\n",
    "                                     # we add a number with a NaN value (example: 2 + NaN = NaN)\n",
    "                   dframe1.add(dframe2, fill_value=0) # Adding two data frames together, however if one of the\n",
    "                                                      # value is NaN, fill it with 0, won't work if 2 values are NaN\n",
    "                   dframe2-series3 # Subtract values in series3 from dframe2\n",
    "                   \n",
    "    + sorting series:\n",
    "        - Example: ser2 = Series(randn(10))\n",
    "                   ser2.sort_index() # Sort the series based on the index, return new sorted series\n",
    "                   ser2.sort_values() # Sort the series based on the values, return new sorted series\n",
    "                   ser2.rank() # Return a series with ranking based on values of each entry (rank 1 = smallest value)\n",
    "                   \n",
    "    + sum of data frame:\n",
    "        - Example: dframe.sum() # Sum each column in the data frame\n",
    "                   dframe.sum(axis=1) # Sum each row in the data frame\n",
    "    + min of data frame:\n",
    "        - Example: dframe.min() # Display min of each column in the data frame\n",
    "        \n",
    "    + index of the min value of data frame:\n",
    "        - Example: dframe.idxmin() # Return index of min value in each column\n",
    "    \n",
    "    + accumulation sum of each column:\n",
    "        - Example: dframe.cumsum() # Sum of each column in data frame\n",
    "    \n",
    "    + display some statistics about the data frame:\n",
    "        - Example: dframe.describe()\n",
    "    \n",
    "    + get stocks data, plot data:\n",
    "        - Example: prices = pdweb.get_data_yahoo(['CVX', 'XOM', 'BP'], start=datetime.datetime(2010,1,1), end=datetime.datetime(2013,1,1))['Adj Close'] \n",
    "                   prices.plot # Plot the change of prices over time\n",
    "                   prices.pct_change().plot() # Plot the percentage change of the stock prices over time\n",
    "                   sns.heatmap(prices.pct_change().corr()) # Plot the correlation of the change in percentages of the stocks"
   ]
  },
  {
   "cell_type": "code",
   "execution_count": null,
   "metadata": {
    "collapsed": true
   },
   "outputs": [],
   "source": []
  }
 ],
 "metadata": {
  "kernelspec": {
   "display_name": "Python 3",
   "language": "python",
   "name": "python3"
  },
  "language_info": {
   "codemirror_mode": {
    "name": "ipython",
    "version": 3
   },
   "file_extension": ".py",
   "mimetype": "text/x-python",
   "name": "python",
   "nbconvert_exporter": "python",
   "pygments_lexer": "ipython3",
   "version": "3.6.4"
  }
 },
 "nbformat": 4,
 "nbformat_minor": 2
}
