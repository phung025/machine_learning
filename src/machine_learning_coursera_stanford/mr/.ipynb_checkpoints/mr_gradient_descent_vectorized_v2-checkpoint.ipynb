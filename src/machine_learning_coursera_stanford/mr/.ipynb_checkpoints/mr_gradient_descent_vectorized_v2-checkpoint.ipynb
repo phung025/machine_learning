{
 "cells": [
  {
   "cell_type": "code",
   "execution_count": 92,
   "metadata": {},
   "outputs": [],
   "source": [
    "import numpy as np\n",
    "import pandas as pd\n",
    "from pandas import Series, DataFrame\n",
    "import seaborn as sns\n",
    "from sklearn.preprocessing import PolynomialFeatures # map polynomial features\n",
    "\n",
    "%matplotlib inline"
   ]
  },
  {
   "cell_type": "code",
   "execution_count": 93,
   "metadata": {},
   "outputs": [],
   "source": [
    "sns.set(style=\"ticks\", color_codes=True)"
   ]
  },
  {
   "cell_type": "markdown",
   "metadata": {},
   "source": [
    "### Load Training Set"
   ]
  },
  {
   "cell_type": "code",
   "execution_count": 94,
   "metadata": {},
   "outputs": [
    {
     "name": "stdout",
     "output_type": "stream",
     "text": [
      "    x_1  x_2       y\n",
      "0  2104    3  399900\n",
      "1  1600    3  329900\n",
      "2  2400    3  369000\n",
      "3  1416    2  232000\n",
      "4  3000    4  539900\n"
     ]
    }
   ],
   "source": [
    "training_data = DataFrame.from_csv('train_set1.csv', index_col=None)\n",
    "print(training_data.iloc[:5])"
   ]
  },
  {
   "cell_type": "markdown",
   "metadata": {},
   "source": [
    "### Plot Training Set"
   ]
  },
  {
   "cell_type": "code",
   "execution_count": 95,
   "metadata": {},
   "outputs": [
    {
     "data": {
      "image/png": "[encoded data removed]",
      "text/plain": [
       "<matplotlib.figure.Figure at 0x1a16cf3b70>"
      ]
     },
     "metadata": {},
     "output_type": "display_data"
    }
   ],
   "source": [
    "g = sns.pairplot(training_data)"
   ]
  },
  {
   "cell_type": "code",
   "execution_count": 96,
   "metadata": {},
   "outputs": [],
   "source": [
    "# Used to plot the cost function vs # of iterations\n",
    "global cf_vs_iter\n",
    "cf_vs_iter = DataFrame(columns=['J_theta', '# of iterations'])"
   ]
  },
  {
   "cell_type": "markdown",
   "metadata": {},
   "source": [
    "### Z-Score Normalization"
   ]
  },
  {
   "cell_type": "code",
   "execution_count": 97,
   "metadata": {},
   "outputs": [],
   "source": [
    "def z_score(val, mu, s):\n",
    "    return (val-mu)/s"
   ]
  },
  {
   "cell_type": "markdown",
   "metadata": {},
   "source": [
    "### Features Scaling"
   ]
  },
  {
   "cell_type": "markdown",
   "metadata": {},
   "source": [
    "Scale the features by taking in the training set, scale the feature columns and return new scaled training set and the scaling factors for each feature column"
   ]
  },
  {
   "cell_type": "code",
   "execution_count": 98,
   "metadata": {},
   "outputs": [],
   "source": [
    "def feature_scale(training_set):\n",
    "\n",
    "    scaling_factors = []\n",
    "    \n",
    "    # Start scaling the features (Excluding the first column)\n",
    "    column_names = list(training_set.columns)[1:-1];\n",
    "    \n",
    "    for col in column_names:\n",
    "        s = np.std(training_set[col])\n",
    "        mu = np.mean(training_set[col])\n",
    "        training_set[col] = z_score(training_set[col], mu, s)\n",
    "        \n",
    "        scaling_factors.append((mu,s))\n",
    "    \n",
    "    # Since we're not scaling the first feature, so:\n",
    "    scaling_factors.insert(0, (0,1))\n",
    "    \n",
    "    return [training_set, scaling_factors]"
   ]
  },
  {
   "cell_type": "markdown",
   "metadata": {},
   "source": [
    "### Basis Function"
   ]
  },
  {
   "cell_type": "code",
   "execution_count": 137,
   "metadata": {},
   "outputs": [],
   "source": [
    "def basis_func(X):\n",
    "    \n",
    "    # Convert the matrix X to type float\n",
    "    X = X.astype(float)\n",
    "    \n",
    "    # For each training example\n",
    "    for i in range (0, len(X)):\n",
    "        mean = X[i].mean()\n",
    "        std = X[i].std()\n",
    "        p_row = np.exp(-(np.square(X[i]-mean)/(2*(std**2))))\n",
    "        X[i] = p_row\n",
    "    \n",
    "    return X"
   ]
  },
  {
   "cell_type": "markdown",
   "metadata": {},
   "source": [
    "### Learning Algorithm"
   ]
  },
  {
   "cell_type": "markdown",
   "metadata": {},
   "source": [
    "Learning algorithm that uses gradient descent algorithm. It takes in the training set, the learning rate, and the number of steps before gradient descent stop. It also takes in the polynomial degree indicating the highest order of the hypothesis function and a hypothesis function generator to return a hypothesis function after finish learning the training set"
   ]
  },
  {
   "cell_type": "code",
   "execution_count": 144,
   "metadata": {},
   "outputs": [],
   "source": [
    "def learning_algorithm(training_set, learning_rate, steps, polynomial_degree, hypothesis):\n",
    "    \n",
    "    # Clear the list for new plot\n",
    "    global cf_vs_iter\n",
    "    cf_vs_iter = DataFrame(columns=['J_theta', '# of iterations'])\n",
    "    \n",
    "    X = DataFrame.as_matrix(training_set[training_set.columns[:-1]]) # The numpy array excluding output y column\n",
    "    Y = np.transpose(np.matrix(training_set[training_set.columns[-1]])) # The output vector\n",
    "    \n",
    "    # Map polynomials degree\n",
    "    poly_mapping = PolynomialFeatures(polynomial_degree)\n",
    "    X = poly_mapping.fit_transform(X)\n",
    "    training_set = DataFrame(np.concatenate((X, Y), axis=1))\n",
    "    \n",
    "    # Scale the feature of the training set\n",
    "    result = feature_scale(training_set)\n",
    "    training_set = result[0]\n",
    "    scaling_factors = result[1]\n",
    "\n",
    "    # Generate the initial thetas vector\n",
    "    features_count = len(training_set.columns)-1\n",
    "    thetas = np.matrix(np.zeros(features_count)).transpose()\n",
    "    \n",
    "    X = DataFrame.as_matrix(training_set[training_set.columns[:-1]]) # The dataframe excluding output y\n",
    "    Y = np.transpose(np.matrix(training_set[training_set.columns[-1]])) # The output vector\n",
    "    \n",
    "    # Process matrix X & Y matrix\n",
    "    X = basis_func(X)\n",
    "    Y = Y.astype(float)\n",
    "    \n",
    "    for i in range(0, steps):\n",
    "        \n",
    "        estimated = X*thetas # estimated outputs\n",
    "        \n",
    "        # difference between estimated output and training output\n",
    "        residual = estimated - Y\n",
    "        \n",
    "        # Update thetas\n",
    "        thetas = np.matrix(thetas)-learning_rate*(np.transpose(X)*residual)\n",
    "\n",
    "        # Compute cost for plotting\n",
    "        cost = np.sum(np.square(residual))/ 2 # Compute the cost\n",
    "        cf_vs_iter = cf_vs_iter.append(DataFrame([[cost,i]], columns=['J_theta', '# of iterations']), ignore_index=True)\n",
    "        \n",
    "    print(thetas)\n",
    "    def h(inputs):\n",
    "        return hypothesis(thetas, inputs, scaling_factors)\n",
    "    \n",
    "    return h"
   ]
  },
  {
   "cell_type": "markdown",
   "metadata": {},
   "source": [
    "### Hypothesis Function Generator"
   ]
  },
  {
   "cell_type": "code",
   "execution_count": 145,
   "metadata": {},
   "outputs": [],
   "source": [
    "def hypothesis_creator(polynomial_degree):\n",
    "    \n",
    "    def hypothesis(thetas, features, scaling_factors):\n",
    "        \n",
    "        # Map polynomials degree\n",
    "        poly_mapping = PolynomialFeatures(polynomial_degree)\n",
    "        features = poly_mapping.fit_transform(np.array([features]))\n",
    "        features = list(features)[0]\n",
    "        \n",
    "        # Scale the features\n",
    "        for i in range(0, len(features)):\n",
    "            features[i] = z_score(features[i], scaling_factors[i][0], scaling_factors[i][1])    \n",
    "                \n",
    "        return np.sum(np.matrix(features)*thetas)\n",
    "    \n",
    "    return hypothesis"
   ]
  },
  {
   "cell_type": "markdown",
   "metadata": {},
   "source": [
    "### Polynomial degree"
   ]
  },
  {
   "cell_type": "code",
   "execution_count": 146,
   "metadata": {},
   "outputs": [],
   "source": [
    "# For a linear hypothesis, polynomial degree = 1\n",
    "k = 2"
   ]
  },
  {
   "cell_type": "code",
   "execution_count": 147,
   "metadata": {},
   "outputs": [],
   "source": [
    "# Create the hypothesis model\n",
    "h = hypothesis_creator(k)"
   ]
  },
  {
   "cell_type": "markdown",
   "metadata": {},
   "source": [
    "### Run Gradient Descent"
   ]
  },
  {
   "cell_type": "code",
   "execution_count": 148,
   "metadata": {},
   "outputs": [
    {
     "name": "stdout",
     "output_type": "stream",
     "text": [
      "[[ -7.54869842e+167]\n",
      " [ -1.83875640e+168]\n",
      " [ -1.86874965e+168]\n",
      " [ -1.83396727e+168]\n",
      " [ -2.10225590e+168]\n",
      " [ -1.82921924e+168]]\n"
     ]
    },
    {
     "name": "stderr",
     "output_type": "stream",
     "text": [
      "/Users/user/anaconda3/lib/python3.6/site-packages/ipykernel_launcher.py:42: RuntimeWarning: overflow encountered in square\n"
     ]
    }
   ],
   "source": [
    "# Run gradient descent algorithm\n",
    "hypothesis = learning_algorithm(training_set=training_data, \n",
    "                                learning_rate=0.3, \n",
    "                                steps=100, \n",
    "                                polynomial_degree=k, \n",
    "                                hypothesis=h)"
   ]
  },
  {
   "cell_type": "markdown",
   "metadata": {},
   "source": [
    "### Plot Cost Function over Each Iteration"
   ]
  },
  {
   "cell_type": "code",
   "execution_count": 149,
   "metadata": {},
   "outputs": [
    {
     "data": {
      "image/png": "[encoded data removed]",
      "text/plain": [
       "<matplotlib.figure.Figure at 0x1a13856eb8>"
      ]
     },
     "metadata": {},
     "output_type": "display_data"
    }
   ],
   "source": [
    "# Plot cost function vs # iterations\n",
    "plot = sns.lmplot(x=\"# of iterations\", y=\"J_theta\",data=cf_vs_iter, fit_reg=False)"
   ]
  },
  {
   "cell_type": "markdown",
   "metadata": {},
   "source": [
    "### Test The Hypothesis Function"
   ]
  },
  {
   "cell_type": "code",
   "execution_count": 150,
   "metadata": {},
   "outputs": [
    {
     "name": "stdout",
     "output_type": "stream",
     "text": [
      "Predicted price of a 1650 sq-ft, 3 br house (using gradient descent):\n",
      "$ 2.91197157067e+168\n"
     ]
    }
   ],
   "source": [
    "print(\"Predicted price of a 1650 sq-ft, 3 br house (using gradient descent):\")\n",
    "print(\"$\",hypothesis([1650,3]))"
   ]
  },
  {
   "cell_type": "code",
   "execution_count": null,
   "metadata": {},
   "outputs": [],
   "source": []
  }
 ],
 "metadata": {
  "kernelspec": {
   "display_name": "Python 3",
   "language": "python",
   "name": "python3"
  },
  "language_info": {
   "codemirror_mode": {
    "name": "ipython",
    "version": 3
   },
   "file_extension": ".py",
   "mimetype": "text/x-python",
   "name": "python",
   "nbconvert_exporter": "python",
   "pygments_lexer": "ipython3",
   "version": "3.6.3"
  }
 },
 "nbformat": 4,
 "nbformat_minor": 2
}
