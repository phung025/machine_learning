{
 "cells": [
  {
   "cell_type": "code",
   "execution_count": 95,
   "metadata": {},
   "outputs": [],
   "source": [
    "import numpy as np\n",
    "import pandas as pd\n",
    "from pandas import Series, DataFrame\n",
    "import seaborn as sns\n",
    "\n",
    "%matplotlib inline"
   ]
  },
  {
   "cell_type": "code",
   "execution_count": 96,
   "metadata": {},
   "outputs": [],
   "source": [
    "sns.set(style=\"ticks\", color_codes=True)"
   ]
  },
  {
   "cell_type": "code",
   "execution_count": 97,
   "metadata": {},
   "outputs": [
    {
     "name": "stdout",
     "output_type": "stream",
     "text": [
      "     x_1  x_2       y\n",
      "0   2104    3  399900\n",
      "1   1600    3  329900\n",
      "2   2400    3  369000\n",
      "3   1416    2  232000\n",
      "4   3000    4  539900\n",
      "5   1985    4  299900\n",
      "6   1534    3  314900\n",
      "7   1427    3  198999\n",
      "8   1380    3  212000\n",
      "9   1494    3  242500\n",
      "10  1940    4  239999\n",
      "11  2000    3  347000\n",
      "12  1890    3  329999\n",
      "13  4478    5  699900\n",
      "14  1268    3  259900\n",
      "15  2300    4  449900\n",
      "16  1320    2  299900\n",
      "17  1236    3  199900\n",
      "18  2609    4  499998\n",
      "19  3031    4  599000\n",
      "20  1767    3  252900\n",
      "21  1888    2  255000\n",
      "22  1604    3  242900\n",
      "23  1962    4  259900\n",
      "24  3890    3  573900\n",
      "25  1100    3  249900\n",
      "26  1458    3  464500\n",
      "27  2526    3  469000\n",
      "28  2200    3  475000\n",
      "29  2637    3  299900\n",
      "30  1839    2  349900\n",
      "31  1000    1  169900\n",
      "32  2040    4  314900\n",
      "33  3137    3  579900\n",
      "34  1811    4  285900\n",
      "35  1437    3  249900\n",
      "36  1239    3  229900\n",
      "37  2132    4  345000\n",
      "38  4215    4  549000\n",
      "39  2162    4  287000\n",
      "40  1664    2  368500\n",
      "41  2238    3  329900\n",
      "42  2567    4  314000\n",
      "43  1200    3  299000\n",
      "44   852    2  179900\n",
      "45  1852    4  299900\n",
      "46  1203    3  239500\n"
     ]
    }
   ],
   "source": [
    "training_data = DataFrame.from_csv('train_set1.csv', index_col=None)\n",
    "print(training_data)"
   ]
  },
  {
   "cell_type": "code",
   "execution_count": 98,
   "metadata": {},
   "outputs": [
    {
     "data": {
      "image/png": "[encoded data removed]",
      "text/plain": [
       "<matplotlib.figure.Figure at 0x201e65aeda0>"
      ]
     },
     "metadata": {},
     "output_type": "display_data"
    }
   ],
   "source": [
    "g = sns.pairplot(training_data)"
   ]
  },
  {
   "cell_type": "code",
   "execution_count": 99,
   "metadata": {},
   "outputs": [],
   "source": [
    "# Used to plot the cost function vs # of iterations\n",
    "global cf_vs_iter\n",
    "cf_vs_iter = DataFrame(columns=['J_theta', '# of iterations'])"
   ]
  },
  {
   "cell_type": "code",
   "execution_count": 100,
   "metadata": {},
   "outputs": [],
   "source": [
    "def z_score(val, mu, s):\n",
    "    return (val-mu)/s"
   ]
  },
  {
   "cell_type": "code",
   "execution_count": 101,
   "metadata": {},
   "outputs": [],
   "source": [
    "def feature_scale(training_set):\n",
    "    \n",
    "    scaling_factors = []\n",
    "    \n",
    "    column_names = list(training_set.columns)[1:-1]; # Ignore feature 0, not scale it\n",
    "    for col in column_names:\n",
    "        s = np.std(training_set[col])\n",
    "        mu = np.mean(training_set[col])\n",
    "        training_set[col] = z_score(training_set[col], mu, s)\n",
    "        scaling_factors.append((mu,s))\n",
    "        \n",
    "    return [training_set, scaling_factors]"
   ]
  },
  {
   "cell_type": "code",
   "execution_count": 102,
   "metadata": {},
   "outputs": [],
   "source": [
    "def learning_algorithm(training_set, learning_rate, steps, hypothesis, variable_exponents):\n",
    "    \n",
    "    # Clear the list for new cost funtion plot\n",
    "    global cf_vs_iter\n",
    "    cf_vs_iter = DataFrame(columns=['J_theta', '# of iterations'])\n",
    "\n",
    "    columns = list(training_set.columns) # List of column names\n",
    "    columns.insert(0,'x_0')\n",
    "    \n",
    "    # Process the data frame, create another column for feature 0\n",
    "    training_set = training_set.reindex(columns=columns, fill_value=1)\n",
    "    \n",
    "    # Continue process data\n",
    "    # Incase the hypothesis function is not linear, we need to process the data frame further\n",
    "    feature_columns = list(training_set.columns)[:-1]\n",
    "    for i in range(len(feature_columns)):\n",
    "        training_set[feature_columns[i]] = variable_exponents[i](training_set[feature_columns[i]])\n",
    "\n",
    "    # Scaling factors for each feature\n",
    "    scaling_factors = []\n",
    "    \n",
    "    # Scale the features of the training data\n",
    "    result_set = feature_scale(training_set)\n",
    "    training_set = result_set[0]\n",
    "    scaling_factors = result_set[1]\n",
    "    \n",
    "    features = (len(columns)-1) # Number of features\n",
    "    m = len(training_set) # Number of training set\n",
    "    \n",
    "    thetas = [0]*features # Matrix containing thetas\n",
    "    \n",
    "    for i in range(0, steps):\n",
    "        tmps = [0]*features\n",
    "\n",
    "        X = DataFrame.as_matrix(training_set[columns[:-1]]) # The dataframe excluding output y\n",
    "        estimated = np.matmul(X, np.transpose(np.matrix(thetas)))\n",
    "        residual = estimated - np.transpose(np.matrix(training_set[training_set.columns[-1]]))\n",
    "\n",
    "        # Update each theta\n",
    "        for j in range(0, features):\n",
    "            col_feature = np.transpose(np.matrix(training_set[columns[j]])); # column contain feature j\n",
    "            prod = np.matmul(np.transpose(residual), col_feature)\n",
    "            tmps[j] = (learning_rate*prod.sum())/m\n",
    "        \n",
    "        # Upate new thetas simutaneously\n",
    "        thetas = (np.matrix(thetas)-np.matrix(tmps)).tolist()[0]\n",
    "        cost = np.sum(np.square(residual))/(2*m) # Compute the cost\n",
    "        cf_vs_iter = cf_vs_iter.append(DataFrame([[cost,i]], columns=['J_theta', '# of iterations']), ignore_index=True)\n",
    "        \n",
    "    print(thetas)\n",
    "    def h(inputs):\n",
    "        return hypothesis(list(thetas), inputs, scaling_factors)\n",
    "    \n",
    "    return h"
   ]
  },
  {
   "cell_type": "code",
   "execution_count": 103,
   "metadata": {},
   "outputs": [],
   "source": [
    "def hypothesis_creator(lambdas):\n",
    "    def hypothesis(thetas, features, scaling_factors):\n",
    "        value = thetas[0]\n",
    "        \n",
    "        for i in range(0, len(features)):\n",
    "            mu = scaling_factors[i][0] # column avg\n",
    "            sigma = scaling_factors[i][1] # column std\n",
    "            input_variable = lambdas[i+1](features[i]) # value of the feature\n",
    "            \n",
    "            value += thetas[i+1]*z_score(input_variable, mu, sigma)\n",
    "        return value\n",
    "    \n",
    "    return hypothesis"
   ]
  },
  {
   "cell_type": "code",
   "execution_count": 104,
   "metadata": {},
   "outputs": [],
   "source": [
    "# Hypothesis function of of form: h(x) = theta0*x_0 + theta1*x_1 + theta2*x_2\n",
    "# with x_0 = 1 by convention\n",
    "llambdas = []\n",
    "llambdas.append(lambda x : 1) # x_0\n",
    "llambdas.append(lambda x : x) # x_1\n",
    "llambdas.append(lambda x : x) # x_2"
   ]
  },
  {
   "cell_type": "code",
   "execution_count": 105,
   "metadata": {},
   "outputs": [],
   "source": [
    "# Create the hypothesis model\n",
    "h = hypothesis_creator(llambdas)"
   ]
  },
  {
   "cell_type": "code",
   "execution_count": 106,
   "metadata": {},
   "outputs": [
    {
     "name": "stdout",
     "output_type": "stream",
     "text": [
      "[340412.659574468, 109447.75525930757, -6578.31364382701]\n"
     ]
    }
   ],
   "source": [
    "# Run gradient descent algorithm\n",
    "hypothesis = learning_algorithm(training_data, 0.3, 100, h, llambdas)"
   ]
  },
  {
   "cell_type": "code",
   "execution_count": 107,
   "metadata": {},
   "outputs": [
    {
     "data": {
      "image/png": "[encoded data removed]",
      "text/plain": [
       "<matplotlib.figure.Figure at 0x201e79de668>"
      ]
     },
     "metadata": {},
     "output_type": "display_data"
    }
   ],
   "source": [
    "# Plot cost function vs # iterations\n",
    "plot = sns.lmplot(x=\"# of iterations\", y=\"J_theta\",data=cf_vs_iter, fit_reg=False)\n",
    "axes = plot.axes\n",
    "#axes[0,0].set_ylim(3.5e10,5e9)"
   ]
  },
  {
   "cell_type": "code",
   "execution_count": 108,
   "metadata": {},
   "outputs": [
    {
     "name": "stdout",
     "output_type": "stream",
     "text": [
      "Predicted price of a 1650 sq-ft, 3 br house (using gradient descent):\n",
      "$ 293081.47339912935\n"
     ]
    }
   ],
   "source": [
    "print(\"Predicted price of a 1650 sq-ft, 3 br house (using gradient descent):\")\n",
    "print(\"$\",hypothesis([1650, 3]))"
   ]
  },
  {
   "cell_type": "code",
   "execution_count": null,
   "metadata": {},
   "outputs": [],
   "source": []
  }
 ],
 "metadata": {
  "kernelspec": {
   "display_name": "Python 3",
   "language": "python",
   "name": "python3"
  },
  "language_info": {
   "codemirror_mode": {
    "name": "ipython",
    "version": 3
   },
   "file_extension": ".py",
   "mimetype": "text/x-python",
   "name": "python",
   "nbconvert_exporter": "python",
   "pygments_lexer": "ipython3",
   "version": "3.6.3"
  }
 },
 "nbformat": 4,
 "nbformat_minor": 2
}
