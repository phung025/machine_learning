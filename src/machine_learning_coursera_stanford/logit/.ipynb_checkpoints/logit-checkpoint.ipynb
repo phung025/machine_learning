{
 "cells": [
  {
   "cell_type": "code",
   "execution_count": 27,
   "metadata": {},
   "outputs": [],
   "source": [
    "import numpy as np\n",
    "import pandas as pd\n",
    "from pandas import Series, DataFrame\n",
    "from scipy.optimize import minimize, fmin_tnc # optimize the gradient descent\n",
    "from sklearn.preprocessing import PolynomialFeatures # map polynomial features\n",
    "import matplotlib.pyplot as plt\n",
    "import seaborn as sns\n",
    "\n",
    "%matplotlib inline"
   ]
  },
  {
   "cell_type": "code",
   "execution_count": 2,
   "metadata": {},
   "outputs": [],
   "source": [
    "# Used to plot the cost function vs # of iterations\n",
    "global cf_vs_iter, iter_count\n",
    "iter_count = 0\n",
    "cf_vs_iter = DataFrame(columns=['J_theta', '# of iterations'])"
   ]
  },
  {
   "cell_type": "markdown",
   "metadata": {},
   "source": [
    "### Learning Algorithm"
   ]
  },
  {
   "cell_type": "code",
   "execution_count": 202,
   "metadata": {},
   "outputs": [],
   "source": [
    "def learning_algorithm(training_set, hypothesis, polynomial_degree):\n",
    "    \n",
    "    # Clear the list for new cost funtion plot\n",
    "    global cf_vs_iter, iter_count\n",
    "    cf_vs_iter = DataFrame(columns=['J_theta', '# of iterations'])\n",
    "    iter_count = 0\n",
    "    \n",
    "    X = DataFrame.as_matrix(training_set[training_set.columns[:-1]]) # The numpy array excluding output y column\n",
    "    Y = np.transpose(np.matrix(training_set[training_set.columns[-1]])) # The output vector\n",
    "    \n",
    "    # map the polynomial features incase the hypothesis function is non-linear\n",
    "    # Generate a new feature matrix consisting of all polynomial combinations of the features with degree \n",
    "    # less than or equal to the specified degree. For example, if an input sample is two dimensional and of \n",
    "    # the form [a, b], the degree-2 polynomial features are [1, a, b, a^2, ab, b^2].\n",
    "    # Note that this function inserts a column with 'ones' in the design matrix for the intercept.\n",
    "    poly = PolynomialFeatures(polynomial_degree)\n",
    "    X = poly.fit_transform(X)\n",
    "    \n",
    "    features_count = X.shape[1] # Number of features\n",
    "    training_count = len(training_set) # Number of training examples\n",
    "    thetas = np.zeros(features_count) # Thetas vector\n",
    "    \n",
    "    # minize the cost function using scipy optimization\n",
    "    result = minimize(fun = cost_function, \n",
    "                      x0 = thetas, \n",
    "                      args = (X, Y), \n",
    "                      method = 'L-BFGS-B', \n",
    "                      jac=gradient)\n",
    "    #result = fmin_tnc(func=cost_function, x0=thetas, fprime=gradient, args=(X, Y))\n",
    "    #result = minimize(cost_function, thetas, args=(X,Y), method=None, jac=gradient, options={'maxiter':400})\n",
    "    thetas = result.x\n",
    "    print(result)\n",
    "    \n",
    "    def h(inputs):\n",
    "        return hypothesis(thetas, inputs)\n",
    "    \n",
    "    return [h, thetas, X, Y]"
   ]
  },
  {
   "cell_type": "markdown",
   "metadata": {},
   "source": [
    "### Gradient of Cost Function"
   ]
  },
  {
   "cell_type": "code",
   "execution_count": 203,
   "metadata": {},
   "outputs": [],
   "source": [
    "def gradient(thetas, X, Y):\n",
    "\n",
    "    training_count = len(X)\n",
    "    htheta = sigmoid(X*np.matrix(thetas).transpose())\n",
    "    gradient = ((1/training_count)*(np.transpose(X)*(htheta-Y))).flatten()\n",
    "    gradient = np.array(gradient.tolist()[0])\n",
    "\n",
    "    return gradient"
   ]
  },
  {
   "cell_type": "markdown",
   "metadata": {},
   "source": [
    "### Cost Function"
   ]
  },
  {
   "cell_type": "code",
   "execution_count": 218,
   "metadata": {},
   "outputs": [],
   "source": [
    "def cost_function(thetas, X, Y):\n",
    "\n",
    "    training_count = len(X)\n",
    "    htheta = sigmoid(X*np.matrix(thetas).transpose())\n",
    "    cost = np.sum(np.multiply(np.log(htheta),-Y)-np.multiply((1-Y),np.log(1-htheta))) / training_count # Compute the cost\n",
    "\n",
    "    # For plotting cost vs iteration\n",
    "    global cf_vs_iter, iter_count\n",
    "    cf_vs_iter = cf_vs_iter.append(DataFrame([[cost,iter_count]], columns=['J_theta', '# of iterations']), ignore_index=True)\n",
    "    iter_count += 1\n",
    "\n",
    "    return cost"
   ]
  },
  {
   "cell_type": "markdown",
   "metadata": {},
   "source": [
    "### Sigmoid Function"
   ]
  },
  {
   "cell_type": "code",
   "execution_count": 219,
   "metadata": {},
   "outputs": [],
   "source": [
    "def sigmoid(z):\n",
    "    return 1/(1+np.exp(-z))"
   ]
  },
  {
   "cell_type": "markdown",
   "metadata": {},
   "source": [
    "### Classifier Builder"
   ]
  },
  {
   "cell_type": "code",
   "execution_count": 229,
   "metadata": {},
   "outputs": [],
   "source": [
    "def hypothesis_builder(polynomial_degree):\n",
    "    def hypothesis(thetas, features):\n",
    "        \n",
    "        # Process the input features\n",
    "        poly = PolynomialFeatures(polynomial_degree)\n",
    "        features = np.array([features])\n",
    "        features = poly.fit_transform(features)\n",
    "        \n",
    "        # Turn thetas array into a vector\n",
    "        thetas = np.matrix(thetas).transpose()\n",
    "        \n",
    "        return sigmoid(np.sum(features*thetas))\n",
    "    return hypothesis"
   ]
  },
  {
   "cell_type": "markdown",
   "metadata": {},
   "source": [
    "### Data Plotting Function"
   ]
  },
  {
   "cell_type": "code",
   "execution_count": 230,
   "metadata": {},
   "outputs": [],
   "source": [
    "# Plot data function got from online resource at\n",
    "# http://nbviewer.jupyter.org/github/JWarmenhoven/Machine-Learning/blob/master/notebooks/Programming%20Exercise%202%20-%20Logistic%20Regression.ipynb\n",
    "def plotData(data, label_x, label_y, label_pos, label_neg, axes=None):\n",
    "    # Get indexes for class 0 and class 1\n",
    "    neg = data[:,2] == 0\n",
    "    pos = data[:,2] == 1\n",
    "    \n",
    "    # If no specific axes object has been passed, get the current axes.\n",
    "    if axes == None:\n",
    "        axes = plt.gca()\n",
    "    axes.scatter(data[pos][:,0], data[pos][:,1], marker='+', c='k', s=60, linewidth=2, label=label_pos)\n",
    "    axes.scatter(data[neg][:,0], data[neg][:,1], c='y', s=60, label=label_neg)\n",
    "    axes.set_xlabel(label_x)\n",
    "    axes.set_ylabel(label_y)\n",
    "    axes.legend(frameon= True, fancybox = True);"
   ]
  },
  {
   "cell_type": "markdown",
   "metadata": {},
   "source": [
    "### Load Training Set"
   ]
  },
  {
   "cell_type": "code",
   "execution_count": 263,
   "metadata": {},
   "outputs": [
    {
     "name": "stdout",
     "output_type": "stream",
     "text": [
      "         x_1        x_2  y\n",
      "0  34.623660  78.024693  0\n",
      "1  30.286711  43.894998  0\n",
      "2  35.847409  72.902198  0\n",
      "3  60.182599  86.308552  1\n",
      "4  79.032736  75.344376  1\n",
      "5  45.083277  56.316372  0\n",
      "6  61.106665  96.511426  1\n",
      "7  75.024746  46.554014  1\n",
      "8  76.098787  87.420570  1\n",
      "9  84.432820  43.533393  1\n"
     ]
    }
   ],
   "source": [
    "# Load training set\n",
    "training_data = DataFrame.from_csv('ex2data1.txt', index_col=None)\n",
    "print(training_data.iloc[0:10])"
   ]
  },
  {
   "cell_type": "markdown",
   "metadata": {},
   "source": [
    "### Plot Classification Data"
   ]
  },
  {
   "cell_type": "code",
   "execution_count": 264,
   "metadata": {},
   "outputs": [
    {
     "data": {
      "image/png": "[encoded data removed]",
      "text/plain": [
       "<matplotlib.figure.Figure at 0x1bbcdb280b8>"
      ]
     },
     "metadata": {},
     "output_type": "display_data"
    }
   ],
   "source": [
    "# Plot classification data\n",
    "plotData(training_data.as_matrix(), 'Exam 1 score', 'Exam 2 score', 'Admitted', 'Not admitted')"
   ]
  },
  {
   "cell_type": "markdown",
   "metadata": {},
   "source": [
    "### Polynomial Degree of Decision Boundary Function"
   ]
  },
  {
   "cell_type": "code",
   "execution_count": 283,
   "metadata": {},
   "outputs": [],
   "source": [
    "# Polynomial degree\n",
    "k = 1"
   ]
  },
  {
   "cell_type": "markdown",
   "metadata": {},
   "source": [
    "### Start L-BFGS-B"
   ]
  },
  {
   "cell_type": "code",
   "execution_count": 284,
   "metadata": {},
   "outputs": [
    {
     "name": "stdout",
     "output_type": "stream",
     "text": [
      "      fun: 0.20349770159166281\n",
      " hess_inv: <3x3 LbfgsInvHessProduct with dtype=float64>\n",
      "      jac: array([ -4.17352663e-07,  -2.32115685e-05,  -2.58099085e-05])\n",
      "  message: b'CONVERGENCE: REL_REDUCTION_OF_F_<=_FACTR*EPSMCH'\n",
      "     nfev: 33\n",
      "      nit: 27\n",
      "   status: 0\n",
      "  success: True\n",
      "        x: array([-25.16141038,   0.20623233,   0.20147212])\n",
      "[-25.16141038   0.20623233   0.20147212]\n"
     ]
    },
    {
     "name": "stderr",
     "output_type": "stream",
     "text": [
      "D:\\Anaconda3\\lib\\site-packages\\ipykernel_launcher.py:5: RuntimeWarning: divide by zero encountered in log\n",
      "  \"\"\"\n",
      "D:\\Anaconda3\\lib\\site-packages\\ipykernel_launcher.py:5: RuntimeWarning: invalid value encountered in multiply\n",
      "  \"\"\"\n"
     ]
    }
   ],
   "source": [
    "# Build a classifier function with polynomial combinations of the features with degree less than or equal to k \n",
    "h = hypothesis_builder(polynomial_degree=k)\n",
    "\n",
    "# result[0] = classifier\n",
    "# result[1] = thetas\n",
    "# results[2] = X\n",
    "# results[3] = Y\n",
    "result = learning_algorithm(training_data, hypothesis=h, polynomial_degree=k)"
   ]
  },
  {
   "cell_type": "markdown",
   "metadata": {},
   "source": [
    "### Plot Cost Function over Each Iteration"
   ]
  },
  {
   "cell_type": "code",
   "execution_count": 285,
   "metadata": {},
   "outputs": [
    {
     "data": {
      "image/png": "[encoded data removed]",
      "text/plain": [
       "<matplotlib.figure.Figure at 0x1bbcdd6c438>"
      ]
     },
     "metadata": {},
     "output_type": "display_data"
    }
   ],
   "source": [
    "# Plot cost function vs # iterations\n",
    "plot = sns.lmplot(x=\"# of iterations\", y=\"J_theta\",data=cf_vs_iter, fit_reg=False)\n",
    "axes = plot.axes"
   ]
  },
  {
   "cell_type": "markdown",
   "metadata": {},
   "source": [
    "### Test Classifier"
   ]
  },
  {
   "cell_type": "code",
   "execution_count": 286,
   "metadata": {},
   "outputs": [
    {
     "name": "stdout",
     "output_type": "stream",
     "text": [
      "For a student with scores 45 and 85, we predict an admission probability of 0.776289794162\n"
     ]
    }
   ],
   "source": [
    "print('For a student with scores 45 and 85, we predict an admission probability of', result[0]([45,85]))"
   ]
  },
  {
   "cell_type": "markdown",
   "metadata": {},
   "source": [
    "### Show Training Accuracy"
   ]
  },
  {
   "cell_type": "code",
   "execution_count": 287,
   "metadata": {},
   "outputs": [],
   "source": [
    "def predict(theta, X, threshold=0.5):\n",
    "    p = sigmoid(X.dot(theta.T)) >= threshold\n",
    "    return(p.astype('int'))"
   ]
  },
  {
   "cell_type": "code",
   "execution_count": 288,
   "metadata": {},
   "outputs": [
    {
     "name": "stdout",
     "output_type": "stream",
     "text": [
      "Train accuracy is 89.0%\n"
     ]
    }
   ],
   "source": [
    "# Display the training accuracy\n",
    "p = predict(result[1], result[2])\n",
    "print('Train accuracy is {}%'.format(100*sum(p == np.array(result[3].flatten().tolist()[0]).ravel())/p.size))"
   ]
  },
  {
   "cell_type": "markdown",
   "metadata": {},
   "source": [
    "### Display Decision Boundary"
   ]
  },
  {
   "cell_type": "code",
   "execution_count": 289,
   "metadata": {},
   "outputs": [
    {
     "data": {
      "image/png": "[encoded data removed]",
      "text/plain": [
       "<matplotlib.figure.Figure at 0x1bbcd9566d8>"
      ]
     },
     "metadata": {},
     "output_type": "display_data"
    }
   ],
   "source": [
    "# Display the decision boundary\n",
    "# Source code: # http://nbviewer.jupyter.org/github/JWarmenhoven/Machine-Learning/blob/master/notebooks/Programming%20Exercise%202%20-%20Logistic%20Regression.ipynb\n",
    "X = result[2]\n",
    "thetas = result[1]\n",
    "\n",
    "plt.scatter(45, 85, s=60, c='r', marker='v', label='(45, 85)')\n",
    "plotData(training_data.as_matrix(), 'Exam 1 score', 'Exam 2 score', 'Admitted', 'Not admitted')\n",
    "x1_min, x1_max = X[:,1].min(), X[:,1].max(),\n",
    "x2_min, x2_max = X[:,2].min(), X[:,2].max(),\n",
    "xx1, xx2 = np.meshgrid(np.linspace(x1_min, x1_max), np.linspace(x2_min, x2_max))\n",
    "h = sigmoid(np.c_[np.ones((xx1.ravel().shape[0],1)), xx1.ravel(), xx2.ravel()].dot(thetas))\n",
    "h = h.reshape(xx1.shape)\n",
    "plt.contour(xx1, xx2, h, [0.5], linewidths=1, colors='b');"
   ]
  },
  {
   "cell_type": "code",
   "execution_count": null,
   "metadata": {},
   "outputs": [],
   "source": []
  }
 ],
 "metadata": {
  "kernelspec": {
   "display_name": "Python 3",
   "language": "python",
   "name": "python3"
  },
  "language_info": {
   "codemirror_mode": {
    "name": "ipython",
    "version": 3
   },
   "file_extension": ".py",
   "mimetype": "text/x-python",
   "name": "python",
   "nbconvert_exporter": "python",
   "pygments_lexer": "ipython3",
   "version": "3.6.3"
  }
 },
 "nbformat": 4,
 "nbformat_minor": 2
}
