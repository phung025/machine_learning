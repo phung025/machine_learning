{
 "cells": [
  {
   "cell_type": "code",
   "execution_count": 27,
   "metadata": {},
   "outputs": [],
   "source": [
    "import numpy as np\n",
    "import pandas as pd\n",
    "from pandas import Series, DataFrame\n",
    "import seaborn as sns\n",
    "\n",
    "%matplotlib inline"
   ]
  },
  {
   "cell_type": "code",
   "execution_count": 35,
   "metadata": {},
   "outputs": [],
   "source": [
    "def learning_algorithm(training_set, learning_rate, steps, hypothesis, exponents):\n",
    "    \n",
    "    columns = list(training_set.columns) # List of all columns name\n",
    "    columns.insert(0,'x_0') # Insert the bias feature name\n",
    "    \n",
    "    # Insert a bias feature column to the training set\n",
    "    training_set = training_set.reindex(columns=columns, fill_value=1)\n",
    "    \n",
    "    # Incase the hypothesis function is non-linear, we need to process the data frame further\n",
    "    feature_columns = list(training_set.columns)[:-1]\n",
    "    for i in range(len(feature_columns)):\n",
    "        training_set[feature_columns[i]] = variable_exponents[i](training_set[feature_columns[i]])\n",
    "    \n",
    "    features_count = len(training_set.columns[:-1]) # Number of features\n",
    "    training_count = len(training_set) # Number of training examples\n",
    "    thetas = np.array([[0] for i in range(0, features_count)]) # Thetas vector\n",
    "    X = DataFrame.as_matrix(training_set[columns[:-1]]) # The dataframe excluding output y\n",
    "    Y = np.transpose(np.matrix(training_set[training_set.columns[-1]])) # The output vector\n",
    "    \n",
    "    # Start gradient descent\n",
    "    for i in range(0, steps):\n",
    "        \n",
    "        # Compute gradient for each theta\n",
    "        htheta = sigmoid(X*thetas)\n",
    "        thetas = (np.transpose(X)*(htheta-Y))/m\n",
    "    \n",
    "    print(np.transpose(thetas))\n",
    "    def h(inputs):\n",
    "        return hypothesis(thetas, inputs)\n",
    "    \n",
    "    return h"
   ]
  },
  {
   "cell_type": "code",
   "execution_count": 29,
   "metadata": {},
   "outputs": [],
   "source": [
    "def sigmoid(z):\n",
    "    return 1/(1+np.exp(z))"
   ]
  },
  {
   "cell_type": "code",
   "execution_count": 36,
   "metadata": {},
   "outputs": [],
   "source": [
    "def hypothesis_creator(lambdas):\n",
    "    def hypothesis(thetas, features):        \n",
    "        features.insert(0,1)\n",
    "        features = np.array(features)\n",
    "        \n",
    "        return np.sum(features*thetas)"
   ]
  },
  {
   "cell_type": "code",
   "execution_count": null,
   "metadata": {},
   "outputs": [],
   "source": []
  }
 ],
 "metadata": {
  "kernelspec": {
   "display_name": "Python 3",
   "language": "python",
   "name": "python3"
  },
  "language_info": {
   "codemirror_mode": {
    "name": "ipython",
    "version": 3
   },
   "file_extension": ".py",
   "mimetype": "text/x-python",
   "name": "python",
   "nbconvert_exporter": "python",
   "pygments_lexer": "ipython3",
   "version": "3.6.3"
  }
 },
 "nbformat": 4,
 "nbformat_minor": 2
}
