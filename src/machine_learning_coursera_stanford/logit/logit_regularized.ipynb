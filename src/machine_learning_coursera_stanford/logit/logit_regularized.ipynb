{
 "cells": [
  {
   "cell_type": "code",
   "execution_count": 27,
   "metadata": {},
   "outputs": [],
   "source": [
    "import numpy as np\n",
    "import pandas as pd\n",
    "from pandas import Series, DataFrame\n",
    "from scipy.optimize import minimize, fmin_tnc # optimize the gradient descent\n",
    "import matplotlib.pyplot as plt\n",
    "import seaborn as sns\n",
    "\n",
    "%matplotlib inline"
   ]
  },
  {
   "cell_type": "code",
   "execution_count": 28,
   "metadata": {},
   "outputs": [],
   "source": [
    "# Used to plot the cost function vs # of iterations\n",
    "global cf_vs_iter, iter_count\n",
    "iter_count = 0\n",
    "cf_vs_iter = DataFrame(columns=['J_theta', '# of iterations'])"
   ]
  },
  {
   "cell_type": "markdown",
   "metadata": {},
   "source": [
    "### Learning Algorithm"
   ]
  },
  {
   "cell_type": "code",
   "execution_count": 29,
   "metadata": {},
   "outputs": [],
   "source": [
    "def learning_algorithm(training_set, hypothesis, exponents):\n",
    "    \n",
    "    # Clear the list for new cost funtion plot\n",
    "    global cf_vs_iter, iter_count\n",
    "    cf_vs_iter = DataFrame(columns=['J_theta', '# of iterations'])\n",
    "    iter_count = 0\n",
    "    \n",
    "    columns = list(training_set.columns) # List of all columns name\n",
    "    columns.insert(0,'x_0') # Insert the bias feature name\n",
    "    \n",
    "    # Insert a bias feature column to the training set\n",
    "    training_set = training_set.reindex(columns=columns, fill_value=1)\n",
    "    \n",
    "    # map the polynomial features incase the hypothesis function is non-linear\n",
    "    feature_columns = list(training_set.columns)[:-1]\n",
    "    for i in range(len(feature_columns)):\n",
    "        training_set[feature_columns[i]] = exponents[i](training_set[feature_columns[i]])\n",
    "    \n",
    "    features_count = len(training_set.columns[:-1]) # Number of features\n",
    "    training_count = len(training_set) # Number of training examples\n",
    "    thetas = np.zeros(features_count) # Thetas vector\n",
    "\n",
    "    X = DataFrame.as_matrix(training_set[columns[:-1]]) # The dataframe excluding output y\n",
    "    Y = np.transpose(np.matrix(training_set[training_set.columns[-1]])) # The output vector\n",
    "\n",
    "    # minize the cost function using scipy optimization\n",
    "    result = minimize(fun = cost_function, \n",
    "                      x0 = thetas, \n",
    "                      args = (X, Y), \n",
    "                      method = 'L-BFGS-B', \n",
    "                      jac=gradient)\n",
    "    #result = fmin_tnc(func=cost_function, x0=thetas, fprime=gradient, args=(X, Y))\n",
    "    #result = minimize(cost_function, thetas, args=(X,Y), method=None, jac=gradient, options={'maxiter':400})\n",
    "    thetas = result.x\n",
    "    print(result)\n",
    "    print(thetas)\n",
    "\n",
    "    def h(inputs):\n",
    "        return hypothesis(thetas.transpose(), inputs)\n",
    "    \n",
    "    return [h, thetas, X, Y]"
   ]
  },
  {
   "cell_type": "markdown",
   "metadata": {},
   "source": [
    "### Gradient of Cost Function"
   ]
  },
  {
   "cell_type": "code",
   "execution_count": 30,
   "metadata": {},
   "outputs": [],
   "source": [
    "def gradient(thetas, X, Y):\n",
    "\n",
    "    training_count = len(X)\n",
    "    htheta = sigmoid(X*np.matrix(thetas).transpose())\n",
    "    gradient = ((1/training_count)*(np.transpose(X)*(htheta-Y))).flatten()\n",
    "    gradient = np.array(gradient.tolist()[0])\n",
    "\n",
    "    return gradient"
   ]
  },
  {
   "cell_type": "markdown",
   "metadata": {},
   "source": [
    "### The Cost Function"
   ]
  },
  {
   "cell_type": "code",
   "execution_count": 31,
   "metadata": {},
   "outputs": [],
   "source": [
    "def cost_function(thetas, X, Y):\n",
    "\n",
    "    training_count = len(X)\n",
    "    htheta = sigmoid(X*np.matrix(thetas).transpose())\n",
    "    cost = np.sum(np.multiply(np.log(htheta),-Y)-np.multiply((1-Y),np.log(1-htheta))) / training_count # Compute the cost\n",
    "\n",
    "    # For plotting cost vs iteration\n",
    "    global cf_vs_iter, iter_count\n",
    "    cf_vs_iter = cf_vs_iter.append(DataFrame([[cost,iter_count]], columns=['J_theta', '# of iterations']), ignore_index=True)\n",
    "    iter_count += 1\n",
    "\n",
    "    return cost"
   ]
  },
  {
   "cell_type": "markdown",
   "metadata": {},
   "source": [
    "### The Sigmoid Function "
   ]
  },
  {
   "cell_type": "code",
   "execution_count": 32,
   "metadata": {},
   "outputs": [],
   "source": [
    "def sigmoid(z):\n",
    "    return 1/(1+np.exp(-z))"
   ]
  },
  {
   "cell_type": "markdown",
   "metadata": {},
   "source": [
    "### Classifier Generator"
   ]
  },
  {
   "cell_type": "code",
   "execution_count": 33,
   "metadata": {},
   "outputs": [],
   "source": [
    "def hypothesis_builder(lambdas):\n",
    "    def hypothesis(thetas, features):        \n",
    "        features.insert(0,1)\n",
    "        features = np.matrix(features)\n",
    "\n",
    "        return sigmoid(np.sum(features*np.matrix(thetas).transpose()))\n",
    "    return hypothesis"
   ]
  },
  {
   "cell_type": "markdown",
   "metadata": {},
   "source": [
    "### Function for Plotting Data"
   ]
  },
  {
   "cell_type": "code",
   "execution_count": 34,
   "metadata": {},
   "outputs": [],
   "source": [
    "# Plot data function got from online resource at\n",
    "# http://nbviewer.jupyter.org/github/JWarmenhoven/Machine-Learning/blob/master/notebooks/Programming%20Exercise%202%20-%20Logistic%20Regression.ipynb\n",
    "def plotData(data, label_x, label_y, label_pos, label_neg, axes=None):\n",
    "    # Get indexes for class 0 and class 1\n",
    "    neg = data[:,2] == 0\n",
    "    pos = data[:,2] == 1\n",
    "    \n",
    "    # If no specific axes object has been passed, get the current axes.\n",
    "    if axes == None:\n",
    "        axes = plt.gca()\n",
    "    axes.scatter(data[pos][:,0], data[pos][:,1], marker='+', c='k', s=60, linewidth=2, label=label_pos)\n",
    "    axes.scatter(data[neg][:,0], data[neg][:,1], c='y', s=60, label=label_neg)\n",
    "    axes.set_xlabel(label_x)\n",
    "    axes.set_ylabel(label_y)\n",
    "    axes.legend(frameon= True, fancybox = True);"
   ]
  },
  {
   "cell_type": "markdown",
   "metadata": {},
   "source": [
    "### Load Data"
   ]
  },
  {
   "cell_type": "code",
   "execution_count": 35,
   "metadata": {},
   "outputs": [
    {
     "name": "stdout",
     "output_type": "stream",
     "text": [
      "         x_1       x_2  y\n",
      "0   0.051267  0.699560  1\n",
      "1  -0.092742  0.684940  1\n",
      "2  -0.213710  0.692250  1\n",
      "3  -0.375000  0.502190  1\n",
      "4  -0.513250  0.465640  1\n",
      "5  -0.524770  0.209800  1\n",
      "6  -0.398040  0.034357  1\n",
      "7  -0.305880 -0.192250  1\n",
      "8   0.016705 -0.404240  1\n",
      "9   0.131910 -0.513890  1\n",
      "10  0.385370 -0.565060  1\n"
     ]
    },
    {
     "name": "stderr",
     "output_type": "stream",
     "text": [
      "D:\\Anaconda3\\lib\\site-packages\\ipykernel_launcher.py:3: DeprecationWarning: \n",
      ".ix is deprecated. Please use\n",
      ".loc for label based indexing or\n",
      ".iloc for positional indexing\n",
      "\n",
      "See the documentation here:\n",
      "http://pandas.pydata.org/pandas-docs/stable/indexing.html#ix-indexer-is-deprecated\n",
      "  This is separate from the ipykernel package so we can avoid doing imports until\n"
     ]
    }
   ],
   "source": [
    "# Load training set\n",
    "training_data = DataFrame.from_csv('ex2data2.txt', index_col=None)\n",
    "print(training_data.ix[0:10])"
   ]
  },
  {
   "cell_type": "markdown",
   "metadata": {},
   "source": [
    "### Plot Classification Data"
   ]
  },
  {
   "cell_type": "code",
   "execution_count": 36,
   "metadata": {},
   "outputs": [
    {
     "data": {
      "image/png": "[encoded data removed]",
      "text/plain": [
       "<matplotlib.figure.Figure at 0x1a04fd02358>"
      ]
     },
     "metadata": {},
     "output_type": "display_data"
    }
   ],
   "source": [
    "# Plot classification data\n",
    "plotData(training_data.as_matrix(), 'Microchip Test 1', 'Microchip Test 2', 'Ok', 'Not Ok')"
   ]
  },
  {
   "cell_type": "code",
   "execution_count": 37,
   "metadata": {},
   "outputs": [],
   "source": [
    "# Hypothesis function of of form: h(x) = theta0*x_0 + theta1*x_1 + theta2*x_2\n",
    "# with x_0 = 1 by convention\n",
    "polynomial_map = []\n",
    "polynomial_map.append(lambda x : 1) # x_0\n",
    "polynomial_map.append(lambda x : x) # x_1\n",
    "polynomial_map.append(lambda x : x) # x_2"
   ]
  },
  {
   "cell_type": "code",
   "execution_count": 38,
   "metadata": {},
   "outputs": [],
   "source": [
    "# Create the hypothesis model\n",
    "h = hypothesis_builder(polynomial_map)"
   ]
  },
  {
   "cell_type": "code",
   "execution_count": 39,
   "metadata": {},
   "outputs": [
    {
     "name": "stdout",
     "output_type": "stream",
     "text": [
      "      fun: 0.69024112201757926\n",
      " hess_inv: <3x3 LbfgsInvHessProduct with dtype=float64>\n",
      "      jac: array([ -5.45360858e-07,  -2.85837238e-08,  -1.36970609e-07])\n",
      "  message: b'CONVERGENCE: NORM_OF_PROJECTED_GRADIENT_<=_PGTOL'\n",
      "     nfev: 7\n",
      "      nit: 5\n",
      "   status: 0\n",
      "  success: True\n",
      "        x: array([-0.01418621, -0.30352121, -0.01813235])\n",
      "[-0.01418621 -0.30352121 -0.01813235]\n"
     ]
    }
   ],
   "source": [
    "# Run gradient descent algorithm\n",
    "# result[0] = classifier\n",
    "# result[1] = thetas\n",
    "# results[2] = X\n",
    "# results[3] = Y\n",
    "result = learning_algorithm(training_data, h, polynomial_map)"
   ]
  },
  {
   "cell_type": "code",
   "execution_count": 40,
   "metadata": {},
   "outputs": [
    {
     "data": {
      "image/png": "[encoded data removed]",
      "text/plain": [
       "<matplotlib.figure.Figure at 0x1a04fd59c50>"
      ]
     },
     "metadata": {},
     "output_type": "display_data"
    }
   ],
   "source": [
    "# Plot cost function vs # iterations\n",
    "plot = sns.lmplot(x=\"# of iterations\", y=\"J_theta\",data=cf_vs_iter, fit_reg=False)\n",
    "axes = plot.axes"
   ]
  },
  {
   "cell_type": "code",
   "execution_count": 41,
   "metadata": {},
   "outputs": [
    {
     "name": "stdout",
     "output_type": "stream",
     "text": [
      "For a student with scores 45 and 85, we predict an admission probability of 2.46996809909e-07\n"
     ]
    }
   ],
   "source": [
    "# Should be around 77%\n",
    "print('For a student with scores 45 and 85, we predict an admission probability of', result[0]([45,85]))"
   ]
  },
  {
   "cell_type": "code",
   "execution_count": 42,
   "metadata": {},
   "outputs": [],
   "source": [
    "def predict(theta, X, threshold=0.5):\n",
    "    p = sigmoid(X.dot(theta.T)) >= threshold\n",
    "    return(p.astype('int'))"
   ]
  },
  {
   "cell_type": "code",
   "execution_count": 43,
   "metadata": {},
   "outputs": [
    {
     "name": "stdout",
     "output_type": "stream",
     "text": [
      "Train accuracy is 55.08474576271186%\n"
     ]
    }
   ],
   "source": [
    "# Display the training accuracy\n",
    "p = predict(result[1], result[2])\n",
    "print('Train accuracy is {}%'.format(100*sum(p == np.array(result[3].flatten().tolist()[0]).ravel())/p.size))"
   ]
  },
  {
   "cell_type": "code",
   "execution_count": 44,
   "metadata": {},
   "outputs": [
    {
     "ename": "NameError",
     "evalue": "name 'costFunctionReg' is not defined",
     "output_type": "error",
     "traceback": [
      "\u001b[1;31m---------------------------------------------------------------------------\u001b[0m",
      "\u001b[1;31mNameError\u001b[0m                                 Traceback (most recent call last)",
      "\u001b[1;32m<ipython-input-44-834bdc506552>\u001b[0m in \u001b[0;36m<module>\u001b[1;34m()\u001b[0m\n\u001b[0;32m     13\u001b[0m \u001b[1;32mfor\u001b[0m \u001b[0mi\u001b[0m\u001b[1;33m,\u001b[0m \u001b[0mC\u001b[0m \u001b[1;32min\u001b[0m \u001b[0menumerate\u001b[0m\u001b[1;33m(\u001b[0m\u001b[1;33m[\u001b[0m\u001b[1;36m0\u001b[0m\u001b[1;33m,\u001b[0m \u001b[1;36m1\u001b[0m\u001b[1;33m,\u001b[0m \u001b[1;36m100\u001b[0m\u001b[1;33m]\u001b[0m\u001b[1;33m)\u001b[0m\u001b[1;33m:\u001b[0m\u001b[1;33m\u001b[0m\u001b[0m\n\u001b[0;32m     14\u001b[0m     \u001b[1;31m# Optimize costFunctionReg\u001b[0m\u001b[1;33m\u001b[0m\u001b[1;33m\u001b[0m\u001b[0m\n\u001b[1;32m---> 15\u001b[1;33m     \u001b[0mres2\u001b[0m \u001b[1;33m=\u001b[0m \u001b[0mminimize\u001b[0m\u001b[1;33m(\u001b[0m\u001b[0mcostFunctionReg\u001b[0m\u001b[1;33m,\u001b[0m \u001b[0minitial_theta\u001b[0m\u001b[1;33m,\u001b[0m \u001b[0margs\u001b[0m\u001b[1;33m=\u001b[0m\u001b[1;33m(\u001b[0m\u001b[0mC\u001b[0m\u001b[1;33m,\u001b[0m \u001b[0mXX\u001b[0m\u001b[1;33m,\u001b[0m \u001b[0my\u001b[0m\u001b[1;33m)\u001b[0m\u001b[1;33m,\u001b[0m \u001b[0mmethod\u001b[0m\u001b[1;33m=\u001b[0m\u001b[1;32mNone\u001b[0m\u001b[1;33m,\u001b[0m \u001b[0mjac\u001b[0m\u001b[1;33m=\u001b[0m\u001b[0mgradientReg\u001b[0m\u001b[1;33m,\u001b[0m \u001b[0moptions\u001b[0m\u001b[1;33m=\u001b[0m\u001b[1;33m{\u001b[0m\u001b[1;34m'maxiter'\u001b[0m\u001b[1;33m:\u001b[0m\u001b[1;36m3000\u001b[0m\u001b[1;33m}\u001b[0m\u001b[1;33m)\u001b[0m\u001b[1;33m\u001b[0m\u001b[0m\n\u001b[0m\u001b[0;32m     16\u001b[0m \u001b[1;33m\u001b[0m\u001b[0m\n\u001b[0;32m     17\u001b[0m     \u001b[1;31m# Accuracy\u001b[0m\u001b[1;33m\u001b[0m\u001b[1;33m\u001b[0m\u001b[0m\n",
      "\u001b[1;31mNameError\u001b[0m: name 'costFunctionReg' is not defined"
     ]
    },
    {
     "data": {
      "image/png": "[encoded data removed]",
      "text/plain": [
       "<matplotlib.figure.Figure at 0x1a04fda44e0>"
      ]
     },
     "metadata": {},
     "output_type": "display_data"
    }
   ],
   "source": [
    "# Display the decision boundary\n",
    "# Source code: # http://nbviewer.jupyter.org/github/JWarmenhoven/Machine-Learning/blob/master/notebooks/Programming%20Exercise%202%20-%20Logistic%20Regression.ipynb\n",
    "X = result[2]\n",
    "thetas = result[1]\n",
    "\n",
    "fig, axes = plt.subplots(1,3, sharey = True, figsize=(17,5))\n",
    "\n",
    "# Decision boundaries\n",
    "# Lambda = 0 : No regularization --> too flexible, overfitting the training data\n",
    "# Lambda = 1 : Looks about right\n",
    "# Lambda = 100 : Too much regularization --> high bias\n",
    "\n",
    "for i, C in enumerate([0, 1, 100]):\n",
    "    # Optimize costFunctionReg\n",
    "    res2 = minimize(costFunctionReg, initial_theta, args=(C, XX, y), method=None, jac=gradientReg, options={'maxiter':3000})\n",
    "    \n",
    "    # Accuracy\n",
    "    accuracy = 100*sum(predict(res2.x, XX) == y.ravel())/y.size    \n",
    "\n",
    "    # Scatter plot of X,y\n",
    "    plotData(data2, 'Microchip Test 1', 'Microchip Test 2', 'y = 1', 'y = 0', axes.flatten()[i])\n",
    "    \n",
    "    # Plot decisionboundary\n",
    "    x1_min, x1_max = X[:,0].min(), X[:,0].max(),\n",
    "    x2_min, x2_max = X[:,1].min(), X[:,1].max(),\n",
    "    xx1, xx2 = np.meshgrid(np.linspace(x1_min, x1_max), np.linspace(x2_min, x2_max))\n",
    "    h = sigmoid(poly.fit_transform(np.c_[xx1.ravel(), xx2.ravel()]).dot(res2.x))\n",
    "    h = h.reshape(xx1.shape)\n",
    "    axes.flatten()[i].contour(xx1, xx2, h, [0.5], linewidths=1, colors='g');       \n",
    "    axes.flatten()[i].set_title('Train accuracy {}% with Lambda = {}'.format(np.round(accuracy, decimals=2), C))"
   ]
  },
  {
   "cell_type": "code",
   "execution_count": null,
   "metadata": {},
   "outputs": [],
   "source": []
  }
 ],
 "metadata": {
  "kernelspec": {
   "display_name": "Python 3",
   "language": "python",
   "name": "python3"
  },
  "language_info": {
   "codemirror_mode": {
    "name": "ipython",
    "version": 3
   },
   "file_extension": ".py",
   "mimetype": "text/x-python",
   "name": "python",
   "nbconvert_exporter": "python",
   "pygments_lexer": "ipython3",
   "version": "3.6.3"
  }
 },
 "nbformat": 4,
 "nbformat_minor": 2
}
